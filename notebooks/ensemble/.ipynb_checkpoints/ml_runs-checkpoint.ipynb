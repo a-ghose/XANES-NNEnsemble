{
 "cells": [
  {
   "cell_type": "markdown",
   "id": "da182a94-16ac-4d07-8fac-9d189aa123f4",
   "metadata": {
    "tags": []
   },
   "source": [
    "## Boilerplate"
   ]
  },
  {
   "cell_type": "code",
   "execution_count": 1,
   "id": "c7c0172d-ad8e-42f8-b796-b4ec7833e33e",
   "metadata": {},
   "outputs": [],
   "source": [
    "%load_ext autoreload\n",
    "%autoreload 2\n",
    "%config Completer.use_jedi = False"
   ]
  },
  {
   "cell_type": "code",
   "execution_count": 2,
   "id": "f387788b-c16a-45d2-8e70-e309ca3b944d",
   "metadata": {},
   "outputs": [],
   "source": [
    "import sys\n",
    "from pathlib import Path\n",
    "sys.path.append(str(Path.cwd().parent))\n",
    "\n",
    "import json\n",
    "import pickle\n",
    "import numpy as np\n",
    "from sklearn.model_selection import train_test_split\n",
    "import torch\n",
    "\n",
    "from pytorch_lightning.loggers.csv_logs import CSVLogger\n",
    "from pytorch_lightning.callbacks.early_stopping import EarlyStopping\n",
    "from pytorch_lightning.callbacks import ModelCheckpoint"
   ]
  },
  {
   "cell_type": "code",
   "execution_count": 3,
   "id": "e8cd6383-a713-489d-a11d-ba0f954f96f2",
   "metadata": {},
   "outputs": [],
   "source": [
    "def read_json(path):\n",
    "    with open(path, 'r') as infile:\n",
    "        dat = json.load(infile)\n",
    "    return dat\n",
    "\n",
    "def save_json(d, path, indent=4, sort_keys=True):\n",
    "    \"\"\"Saves a json file to the path specified.\n",
    "\n",
    "    Parameters\n",
    "    ----------\n",
    "    d : dict\n",
    "        Must be serializable.\n",
    "    path : str\n",
    "        File path to save at.\n",
    "    \"\"\"\n",
    "\n",
    "    with open(path, 'w') as outfile:\n",
    "        json.dump(d, outfile, indent=indent, sort_keys=sort_keys)"
   ]
  },
  {
   "cell_type": "code",
   "execution_count": 4,
   "id": "ab130d4f-c85e-4657-8b5f-5495d56be4d9",
   "metadata": {},
   "outputs": [],
   "source": [
    "class NullClass:\n",
    "    def do_nothing(*args, **kwargs):\n",
    "        pass\n",
    "    def add_colorbar(self, im, **kwargs):\n",
    "        return plt.colorbar(im)\n",
    "    def __getattr__(self, _):\n",
    "        return self.do_nothing\n",
    "try:\n",
    "    from mpl_utils import MPLAdjutant\n",
    "    adj = MPLAdjutant()\n",
    "    adj.set_defaults()\n",
    "except ImportError:\n",
    "    adj = NullClass()"
   ]
  },
  {
   "cell_type": "code",
   "execution_count": 5,
   "id": "630e13e1-3497-4e69-8381-57385bb5dbef",
   "metadata": {},
   "outputs": [],
   "source": [
    "import os\n",
    "\n",
    "os.chdir('../..')"
   ]
  },
  {
   "cell_type": "markdown",
   "id": "946441e3-11c6-4b93-8add-73a8faea523f",
   "metadata": {},
   "source": [
    "# Loading in Data"
   ]
  },
  {
   "cell_type": "code",
   "execution_count": 6,
   "id": "78c9f993-4634-4892-bf90-91a94d33e2bb",
   "metadata": {},
   "outputs": [],
   "source": [
    "from gale.ml import LightningMultiLayerPerceptron, Data, Trainer"
   ]
  },
  {
   "cell_type": "code",
   "execution_count": 7,
   "id": "95a27a3b-7929-4077-820a-84711094a1ab",
   "metadata": {},
   "outputs": [],
   "source": [
    "data = pickle.load(open(\"/Users/aghose/Desktop/BNL2022/Data/22_QM9_forward/XANES-220531-data-O-ACSF-small.pkl\", \"rb\"))"
   ]
  },
  {
   "cell_type": "code",
   "execution_count": 8,
   "id": "1c1e0ca4-d76d-4143-aa2c-0f7a10fb5312",
   "metadata": {},
   "outputs": [],
   "source": [
    "np.random.seed(1234)\n",
    "torch.manual_seed(1234)\n",
    "x_train, x_val, y_train, y_val = train_test_split(\n",
    "    data[\"x\"], data[\"y\"], test_size=0.1, random_state=42\n",
    ")"
   ]
  },
  {
   "cell_type": "code",
   "execution_count": 9,
   "id": "afad96ec-0431-4df4-ba29-f121d5534d65",
   "metadata": {},
   "outputs": [],
   "source": [
    "loader = Data(x_train, y_train, x_val, y_val)"
   ]
  },
  {
   "cell_type": "markdown",
   "id": "074b0927-5480-47b3-bb33-ee105cad4c24",
   "metadata": {},
   "source": [
    "## Setting up Random Model Architecture"
   ]
  },
  {
   "cell_type": "code",
   "execution_count": null,
   "id": "0379c4c6-991f-49e3-8328-e7fa61d2048d",
   "metadata": {},
   "outputs": [],
   "source": [
    "logger = CSVLogger(\"logs\", name=\"001\")\n",
    "checkpointer = ModelCheckpoint(dirpath=\"debug/test/model05_4444\", save_top_k=5, monitor=\"val_loss\")\n",
    "early_stopper = EarlyStopping(\n",
    "    monitor=\"val_loss\",\n",
    "    check_finite=True,\n",
    "    patience=50,\n",
    "    verbose=False,\n",
    ")"
   ]
  },
  {
   "cell_type": "code",
   "execution_count": null,
   "id": "e7a5435f-1b2e-416f-a362-c1259b5904d9",
   "metadata": {},
   "outputs": [],
   "source": [
    "model = Lightning(input_size=x_train.shape[1], output_size=y_train.shape[1])\n",
    "model = model.from_random_architecture(random_seed=4444, input_size=x_train.shape[1], output_size=y_train.shape[1])\n",
    "model._print_every_epoch = 1"
   ]
  },
  {
   "cell_type": "markdown",
   "id": "26f57036-9033-4bd5-a91d-837414d06e13",
   "metadata": {},
   "source": [
    "## Training"
   ]
  },
  {
   "cell_type": "code",
   "execution_count": null,
   "id": "653a324f-ee89-48be-8447-ede9736cfd2f",
   "metadata": {},
   "outputs": [],
   "source": [
    "trainer = Trainer(\n",
    "    gpus=0,\n",
    "    num_nodes=1,\n",
    "    auto_select_gpus=False,\n",
    "    precision=32,\n",
    "    max_epochs=200,\n",
    "    enable_progress_bar=True,\n",
    "    log_every_n_steps=1,\n",
    "    logger=logger,\n",
    "    callbacks=[checkpointer, early_stopper],\n",
    ")"
   ]
  },
  {
   "cell_type": "code",
   "execution_count": null,
   "id": "1c9999ed-bf45-433a-b38b-7b132d1b3d85",
   "metadata": {},
   "outputs": [],
   "source": [
    "trainer.fit(model, loader)"
   ]
  },
  {
   "cell_type": "code",
   "execution_count": null,
   "id": "bed94236-afc5-4181-a06f-22249a083057",
   "metadata": {},
   "outputs": [],
   "source": [
    "trainer.export_csv_log()"
   ]
  },
  {
   "cell_type": "markdown",
   "id": "9b08d904-5406-4c05-9cd1-d369e7083418",
   "metadata": {},
   "source": [
    "## Plotting Loss over Epochs"
   ]
  },
  {
   "cell_type": "code",
   "execution_count": null,
   "id": "bb65b4bc-a02b-4230-a41b-10edf4d413a1",
   "metadata": {},
   "outputs": [],
   "source": [
    "import matplotlib.pyplot as plt\n",
    "import pandas as pd\n",
    "\n",
    "\n",
    "\n",
    "\n",
    "# Load data\n",
    "results = pd.read_csv('debug/test_logs/001/version_1/custom_metrics.csv')\n",
    "\n",
    "# Plot\n",
    "plt.plot(results['epoch'], results['train_loss'],color='green')\n",
    "plt.xlabel('Epoch')\n",
    "plt.ylabel('Training Loss')\n",
    "plt.show()"
   ]
  },
  {
   "cell_type": "code",
   "execution_count": null,
   "id": "f385d10e-50d9-48f4-91a2-836f32b9a1f1",
   "metadata": {},
   "outputs": [],
   "source": [
    "plt.plot(results['epoch'], results['val_loss'])\n",
    "plt.xlabel('Epoch')\n",
    "plt.ylabel('Validation Loss')\n",
    "plt.show()"
   ]
  },
  {
   "cell_type": "code",
   "execution_count": null,
   "id": "7782bc6c-1ff8-49e0-83aa-3b03281863ae",
   "metadata": {},
   "outputs": [],
   "source": [
    "#model architecture\n",
    "print(model)"
   ]
  },
  {
   "cell_type": "markdown",
   "id": "f67ae4ed-2626-4a88-af2b-23e1964fd70c",
   "metadata": {},
   "source": [
    "## Predictions"
   ]
  },
  {
   "cell_type": "code",
   "execution_count": null,
   "id": "b008bccc-6d71-428a-87a3-4d6d1fad3f5e",
   "metadata": {},
   "outputs": [],
   "source": [
    "model.eval()\n",
    "predictions = model(torch.FloatTensor(x_val))\n",
    "preds = predictions.detach().numpy()"
   ]
  },
  {
   "cell_type": "code",
   "execution_count": null,
   "id": "11628d8a-d928-492f-86c0-7f613d07b588",
   "metadata": {},
   "outputs": [],
   "source": [
    "# print(predictions)\n",
    "#print(\"Predicted: \", predictions[0],\"\\nTrue: \", y_val[0])"
   ]
  },
  {
   "cell_type": "code",
   "execution_count": null,
   "id": "1a388c81-0d3e-473a-ab4b-4cabade5819e",
   "metadata": {},
   "outputs": [],
   "source": [
    "#printing minimum loss value\n",
    "print(\"min_loss = \", min(results['val_loss']))"
   ]
  },
  {
   "cell_type": "markdown",
   "id": "71ee8c3a-5d94-446d-a56b-4a7c61dd80cf",
   "metadata": {},
   "source": [
    "## PCA Plot and Error Plots"
   ]
  },
  {
   "cell_type": "code",
   "execution_count": null,
   "id": "9f25671c-f67e-4711-8e79-ffadbe99370c",
   "metadata": {},
   "outputs": [],
   "source": [
    "from matplotlib import cm\n",
    "\n",
    "grid = data['grid']\n",
    "acsf_array = data['x']\n",
    "spectra = data['y']"
   ]
  },
  {
   "cell_type": "code",
   "execution_count": null,
   "id": "5483a4ca-01a6-4053-aa59-9365579ae912",
   "metadata": {},
   "outputs": [],
   "source": [
    "from sklearn.decomposition import PCA\n",
    "from sklearn.cluster import KMeans\n",
    "from sklearn.preprocessing import StandardScaler\n",
    "\n",
    "pca_acsf = PCA(2)\n",
    "w_acsf = pca_acsf.fit_transform(acsf_array)\n",
    "\n",
    "pca_spectra = PCA(2)\n",
    "w_spectra = pca_spectra.fit_transform(spectra)\n",
    "\n",
    "# print(w_spectra.shape)\n",
    "# print(w_acsf.shape)\n",
    "\n",
    "N = 10\n",
    "M = 100\n",
    "\n",
    "dig = np.digitize(w_acsf[::N, 0], bins=np.linspace(w_acsf[::N, 0].min(), w_acsf[::N, 0].max(), M))\n",
    "cmap = cm.get_cmap(\"rainbow\", M)"
   ]
  },
  {
   "cell_type": "code",
   "execution_count": null,
   "id": "288a2978-c3e6-41a5-abc5-7ef15ad2bc87",
   "metadata": {},
   "outputs": [],
   "source": [
    "fig, ax = plt.subplots(1, 1, figsize=(4, 4))\n",
    "\n",
    "ax.scatter(w_acsf[:, 0], w_acsf[:, 1],  c=w_spectra[:, 0], cmap=plt.cm.get_cmap('Spectral'))\n",
    "\n",
    "ax.set_xlabel('component 1')\n",
    "ax.set_ylabel('component 2')\n",
    "plt.show()"
   ]
  },
  {
   "cell_type": "code",
   "execution_count": null,
   "id": "6bb6f2c7-f128-45b4-8efd-b956a4a66aa7",
   "metadata": {},
   "outputs": [],
   "source": [
    "from sklearn.metrics import mean_squared_error\n",
    "import math\n",
    "\n",
    "mse = mean_squared_error(preds, y_val, multioutput = 'raw_values')\n",
    "\n",
    "rmse = [math.sqrt(mse[i]) for i in range(len(mse))]\n",
    "for i in range(10):\n",
    "    fig1, ax1 = plt.subplots(1, 1, figsize=(6, 4))\n",
    "    \n",
    "    \n",
    "    ax1.plot(grid, preds[i], color=cmap(dig[i]), linestyle = 'dashed', label = \"Predicted\")\n",
    "\n",
    "    ax1.plot(grid, y_val[i], color=cmap(dig[i]), label = \"True\")\n",
    "    ax1.legend(loc=\"upper right\")\n",
    "    ax1.set_title(\"Predicted vs True Spectra\")\n",
    "    plt.fill_between(grid, preds[i] -1 * rmse,preds[i] +1 * rmse, color=cmap(dig[i]), alpha = 0.2)\n",
    "    \n",
    "    # errorbar(grid, y_val[i], yerr= mse, color = cmap(dig[i]), alpha = 0.5)\n",
    "    plt.show()"
   ]
  }
 ],
 "metadata": {
  "kernelspec": {
   "display_name": "Venv",
   "language": "python",
   "name": "venv"
  },
  "language_info": {
   "codemirror_mode": {
    "name": "ipython",
    "version": 3
   },
   "file_extension": ".py",
   "mimetype": "text/x-python",
   "name": "python",
   "nbconvert_exporter": "python",
   "pygments_lexer": "ipython3",
   "version": "3.9.12"
  }
 },
 "nbformat": 4,
 "nbformat_minor": 5
}
