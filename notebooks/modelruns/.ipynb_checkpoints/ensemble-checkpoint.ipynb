{
 "cells": [
  {
   "cell_type": "code",
   "execution_count": null,
   "id": "b349ce44-b2f7-4671-8098-e697949acfb7",
   "metadata": {},
   "outputs": [],
   "source": []
  },
  {
   "cell_type": "code",
   "execution_count": 1,
   "id": "63f6dc88-bdf1-4298-9a21-c23eb6592a47",
   "metadata": {},
   "outputs": [],
   "source": [
    "%load_ext autoreload\n",
    "%autoreload 2\n",
    "%config Completer.use_jedi = False"
   ]
  },
  {
   "cell_type": "code",
   "execution_count": 2,
   "id": "1b7c6b9a-cd3e-4397-adc8-1d0bcbc5e93a",
   "metadata": {},
   "outputs": [],
   "source": [
    "import sys\n",
    "from pathlib import Path\n",
    "sys.path.append(str(Path.cwd().parent))\n",
    "\n",
    "import json\n",
    "import pickle\n",
    "import numpy as np\n",
    "from sklearn.model_selection import train_test_split\n",
    "import torch\n",
    "\n",
    "from pytorch_lightning.loggers.csv_logs import CSVLogger\n",
    "from pytorch_lightning.callbacks.early_stopping import EarlyStopping\n",
    "from pytorch_lightning.callbacks import ModelCheckpoint"
   ]
  },
  {
   "cell_type": "code",
   "execution_count": 3,
   "id": "23f73843-7b77-4fab-8028-b2046cf70fb8",
   "metadata": {},
   "outputs": [],
   "source": [
    "def read_json(path):\n",
    "    with open(path, 'r') as infile:\n",
    "        dat = json.load(infile)\n",
    "    return dat\n",
    "\n",
    "def save_json(d, path, indent=4, sort_keys=True):\n",
    "    \"\"\"Saves a json file to the path specified.\n",
    "\n",
    "    Parameters\n",
    "    ----------\n",
    "    d : dict\n",
    "        Must be serializable.\n",
    "    path : str\n",
    "        File path to save at.\n",
    "    \"\"\"\n",
    "\n",
    "    with open(path, 'w') as outfile:\n",
    "        json.dump(d, outfile, indent=indent, sort_keys=sort_keys)"
   ]
  },
  {
   "cell_type": "code",
   "execution_count": 4,
   "id": "6d20a66e-7943-44a1-8a51-bb0bdd352e4e",
   "metadata": {},
   "outputs": [],
   "source": [
    "class NullClass:\n",
    "    def do_nothing(*args, **kwargs):\n",
    "        pass\n",
    "    def add_colorbar(self, im, **kwargs):\n",
    "        return plt.colorbar(im)\n",
    "    def __getattr__(self, _):\n",
    "        return self.do_nothing\n",
    "try:\n",
    "    from mpl_utils import MPLAdjutant\n",
    "    adj = MPLAdjutant()\n",
    "    adj.set_defaults()\n",
    "except ImportError:\n",
    "    adj = NullClass()"
   ]
  },
  {
   "cell_type": "markdown",
   "id": "2ceaabb3-ac2a-4eed-9472-c1ed9171a003",
   "metadata": {},
   "source": [
    "## Models"
   ]
  },
  {
   "cell_type": "code",
   "execution_count": 13,
   "id": "07f1f2b0-472f-4b05-9194-16fc2cb7a4c6",
   "metadata": {},
   "outputs": [],
   "source": [
    "import os\n",
    "os.chdir('../..')\n",
    "\n",
    "from gale.ml import FeedForwardNeuralNetwork, Trainer, Data, LightningMultiLayerPerceptron"
   ]
  },
  {
   "cell_type": "code",
   "execution_count": null,
   "id": "ad22d5db-926e-49e5-9171-16f6660c8f70",
   "metadata": {},
   "outputs": [],
   "source": [
    "model1 = LightningMultiLayerPerceptron.load_from_checkpoint"
   ]
  }
 ],
 "metadata": {
  "kernelspec": {
   "display_name": "Venv",
   "language": "python",
   "name": "venv"
  },
  "language_info": {
   "codemirror_mode": {
    "name": "ipython",
    "version": 3
   },
   "file_extension": ".py",
   "mimetype": "text/x-python",
   "name": "python",
   "nbconvert_exporter": "python",
   "pygments_lexer": "ipython3",
   "version": "3.9.12"
  }
 },
 "nbformat": 4,
 "nbformat_minor": 5
}
