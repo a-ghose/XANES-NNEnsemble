{
 "cells": [
  {
   "cell_type": "markdown",
   "id": "da182a94-16ac-4d07-8fac-9d189aa123f4",
   "metadata": {
    "tags": []
   },
   "source": [
    "## Boilerplate"
   ]
  },
  {
   "cell_type": "code",
   "execution_count": 1,
   "id": "c7c0172d-ad8e-42f8-b796-b4ec7833e33e",
   "metadata": {},
   "outputs": [],
   "source": [
    "%load_ext autoreload\n",
    "%autoreload 2\n",
    "%config Completer.use_jedi = False"
   ]
  },
  {
   "cell_type": "code",
   "execution_count": 2,
   "id": "f387788b-c16a-45d2-8e70-e309ca3b944d",
   "metadata": {},
   "outputs": [],
   "source": [
    "import sys\n",
    "from pathlib import Path\n",
    "sys.path.append(str(Path.cwd().parent))\n",
    "\n",
    "import json\n",
    "import pickle\n",
    "import numpy as np\n",
    "from sklearn.model_selection import train_test_split\n",
    "import torch\n",
    "\n",
    "from pytorch_lightning.loggers.csv_logs import CSVLogger\n",
    "from pytorch_lightning.callbacks.early_stopping import EarlyStopping\n",
    "from pytorch_lightning.callbacks import ModelCheckpoint"
   ]
  },
  {
   "cell_type": "code",
   "execution_count": 3,
   "id": "e8cd6383-a713-489d-a11d-ba0f954f96f2",
   "metadata": {},
   "outputs": [],
   "source": [
    "def read_json(path):\n",
    "    with open(path, 'r') as infile:\n",
    "        dat = json.load(infile)\n",
    "    return dat\n",
    "\n",
    "def save_json(d, path, indent=4, sort_keys=True):\n",
    "    \"\"\"Saves a json file to the path specified.\n",
    "\n",
    "    Parameters\n",
    "    ----------\n",
    "    d : dict\n",
    "        Must be serializable.\n",
    "    path : str\n",
    "        File path to save at.\n",
    "    \"\"\"\n",
    "\n",
    "    with open(path, 'w') as outfile:\n",
    "        json.dump(d, outfile, indent=indent, sort_keys=sort_keys)"
   ]
  },
  {
   "cell_type": "code",
   "execution_count": 4,
   "id": "ab130d4f-c85e-4657-8b5f-5495d56be4d9",
   "metadata": {},
   "outputs": [],
   "source": [
    "class NullClass:\n",
    "    def do_nothing(*args, **kwargs):\n",
    "        pass\n",
    "    def add_colorbar(self, im, **kwargs):\n",
    "        return plt.colorbar(im)\n",
    "    def __getattr__(self, _):\n",
    "        return self.do_nothing\n",
    "try:\n",
    "    from mpl_utils import MPLAdjutant\n",
    "    adj = MPLAdjutant()\n",
    "    adj.set_defaults()\n",
    "except ImportError:\n",
    "    adj = NullClass()"
   ]
  },
  {
   "cell_type": "markdown",
   "id": "946441e3-11c6-4b93-8add-73a8faea523f",
   "metadata": {},
   "source": [
    "# Loading in Data"
   ]
  },
  {
   "cell_type": "code",
   "execution_count": 5,
   "id": "78c9f993-4634-4892-bf90-91a94d33e2bb",
   "metadata": {},
   "outputs": [],
   "source": [
    "from gale.data import Data\n",
    "from gale.models import Model, Trainer"
   ]
  },
  {
   "cell_type": "code",
   "execution_count": 6,
   "id": "95a27a3b-7929-4077-820a-84711094a1ab",
   "metadata": {},
   "outputs": [],
   "source": [
    "data = pickle.load(open(\"/Users/aghose/Desktop/BNL2022/Data/22_QM9_forward/XANES-220531-data-O-ACSF-small.pkl\", \"rb\"))"
   ]
  },
  {
   "cell_type": "code",
   "execution_count": 7,
   "id": "1c1e0ca4-d76d-4143-aa2c-0f7a10fb5312",
   "metadata": {},
   "outputs": [],
   "source": [
    "np.random.seed(1234)\n",
    "torch.manual_seed(1234)\n",
    "x_train, x_val, y_train, y_val = train_test_split(\n",
    "    data[\"x\"], data[\"y\"], test_size=0.1, random_state=42\n",
    ")"
   ]
  },
  {
   "cell_type": "code",
   "execution_count": 8,
   "id": "afad96ec-0431-4df4-ba29-f121d5534d65",
   "metadata": {},
   "outputs": [],
   "source": [
    "loader = Data(x_train, y_train, x_val, y_val)"
   ]
  },
  {
   "cell_type": "markdown",
   "id": "074b0927-5480-47b3-bb33-ee105cad4c24",
   "metadata": {},
   "source": [
    "## Setting up Random Model Architecture"
   ]
  },
  {
   "cell_type": "code",
   "execution_count": 9,
   "id": "0379c4c6-991f-49e3-8328-e7fa61d2048d",
   "metadata": {},
   "outputs": [],
   "source": [
    "logger = CSVLogger(\"debug/test_logs\", name=\"001\")\n",
    "checkpointer = ModelCheckpoint(dirpath=\"debug/test/model05_4444\", save_top_k=5, monitor=\"val_loss\")\n",
    "early_stopper = EarlyStopping(\n",
    "    monitor=\"val_loss\",\n",
    "    check_finite=True,\n",
    "    patience=50,\n",
    "    verbose=False,\n",
    ")"
   ]
  },
  {
   "cell_type": "code",
   "execution_count": 10,
   "id": "e7a5435f-1b2e-416f-a362-c1259b5904d9",
   "metadata": {},
   "outputs": [],
   "source": [
    "model = Model(input_size=x_train.shape[1], output_size=y_train.shape[1])\n",
    "model = model.from_random_architecture(random_seed=4444, input_size=x_train.shape[1], output_size=y_train.shape[1])\n",
    "model._print_every_epoch = 1"
   ]
  },
  {
   "cell_type": "markdown",
   "id": "26f57036-9033-4bd5-a91d-837414d06e13",
   "metadata": {},
   "source": [
    "## Training"
   ]
  },
  {
   "cell_type": "code",
   "execution_count": 11,
   "id": "653a324f-ee89-48be-8447-ede9736cfd2f",
   "metadata": {},
   "outputs": [
    {
     "name": "stderr",
     "output_type": "stream",
     "text": [
      "GPU available: False, used: False\n",
      "TPU available: False, using: 0 TPU cores\n",
      "IPU available: False, using: 0 IPUs\n",
      "HPU available: False, using: 0 HPUs\n"
     ]
    }
   ],
   "source": [
    "trainer = Trainer(\n",
    "    gpus=0,\n",
    "    num_nodes=1,\n",
    "    auto_select_gpus=False,\n",
    "    precision=32,\n",
    "    max_epochs=200,\n",
    "    enable_progress_bar=True,\n",
    "    log_every_n_steps=1,\n",
    "    logger=logger,\n",
    "    callbacks=[checkpointer, early_stopper],\n",
    ")"
   ]
  },
  {
   "cell_type": "code",
   "execution_count": 12,
   "id": "1c9999ed-bf45-433a-b38b-7b132d1b3d85",
   "metadata": {},
   "outputs": [
    {
     "name": "stderr",
     "output_type": "stream",
     "text": [
      "\n",
      "  | Name       | Type    | Params\n",
      "---------------------------------------\n",
      "0 | _criterion | MSELoss | 0     \n",
      "1 | _net       | Net     | 66.2 K\n",
      "---------------------------------------\n",
      "66.2 K    Trainable params\n",
      "0         Non-trainable params\n",
      "66.2 K    Total params\n",
      "0.265     Total estimated model params size (MB)\n"
     ]
    },
    {
     "data": {
      "application/vnd.jupyter.widget-view+json": {
       "model_id": "",
       "version_major": 2,
       "version_minor": 0
      },
      "text/plain": [
       "Sanity Checking: 0it [00:00, ?it/s]"
      ]
     },
     "metadata": {},
     "output_type": "display_data"
    },
    {
     "name": "stdout",
     "output_type": "stream",
     "text": [
      "Epoch 00001\n",
      "\tlr: 1.000e-02\n",
      "\tcv loss: 6.954e-01\n"
     ]
    },
    {
     "data": {
      "application/vnd.jupyter.widget-view+json": {
       "model_id": "c113e603bee644f5ab206713f771a4de",
       "version_major": 2,
       "version_minor": 0
      },
      "text/plain": [
       "Training: 0it [00:00, ?it/s]"
      ]
     },
     "metadata": {},
     "output_type": "display_data"
    },
    {
     "data": {
      "application/vnd.jupyter.widget-view+json": {
       "model_id": "",
       "version_major": 2,
       "version_minor": 0
      },
      "text/plain": [
       "Validation: 0it [00:00, ?it/s]"
      ]
     },
     "metadata": {},
     "output_type": "display_data"
    },
    {
     "name": "stdout",
     "output_type": "stream",
     "text": [
      "Epoch 00001\n",
      "\tlr: 1.000e-02\n",
      "\tcv loss: 4.514e-02\n",
      "\ttr loss: 7.678e-02 | (1.94 s | 0.03 m)\n"
     ]
    },
    {
     "data": {
      "application/vnd.jupyter.widget-view+json": {
       "model_id": "",
       "version_major": 2,
       "version_minor": 0
      },
      "text/plain": [
       "Validation: 0it [00:00, ?it/s]"
      ]
     },
     "metadata": {},
     "output_type": "display_data"
    },
    {
     "name": "stdout",
     "output_type": "stream",
     "text": [
      "Epoch 00002\n",
      "\tlr: 1.000e-02\n",
      "\tcv loss: 3.704e-02\n",
      "\ttr loss: 4.100e-02 | (1.30 s | 0.02 m)\n"
     ]
    },
    {
     "data": {
      "application/vnd.jupyter.widget-view+json": {
       "model_id": "",
       "version_major": 2,
       "version_minor": 0
      },
      "text/plain": [
       "Validation: 0it [00:00, ?it/s]"
      ]
     },
     "metadata": {},
     "output_type": "display_data"
    },
    {
     "name": "stdout",
     "output_type": "stream",
     "text": [
      "Epoch 00003\n",
      "\tlr: 1.000e-02\n",
      "\tcv loss: 3.513e-02\n",
      "\ttr loss: 3.653e-02 | (1.30 s | 0.02 m)\n"
     ]
    },
    {
     "data": {
      "application/vnd.jupyter.widget-view+json": {
       "model_id": "",
       "version_major": 2,
       "version_minor": 0
      },
      "text/plain": [
       "Validation: 0it [00:00, ?it/s]"
      ]
     },
     "metadata": {},
     "output_type": "display_data"
    },
    {
     "name": "stdout",
     "output_type": "stream",
     "text": [
      "Epoch 00004\n",
      "\tlr: 1.000e-02\n",
      "\tcv loss: 4.085e-02\n",
      "\ttr loss: 3.358e-02 | (1.33 s | 0.02 m)\n"
     ]
    },
    {
     "data": {
      "application/vnd.jupyter.widget-view+json": {
       "model_id": "",
       "version_major": 2,
       "version_minor": 0
      },
      "text/plain": [
       "Validation: 0it [00:00, ?it/s]"
      ]
     },
     "metadata": {},
     "output_type": "display_data"
    },
    {
     "name": "stdout",
     "output_type": "stream",
     "text": [
      "Epoch 00005\n",
      "\tlr: 1.000e-02\n",
      "\tcv loss: 3.839e-02\n",
      "\ttr loss: 3.344e-02 | (1.32 s | 0.02 m)\n"
     ]
    },
    {
     "data": {
      "application/vnd.jupyter.widget-view+json": {
       "model_id": "",
       "version_major": 2,
       "version_minor": 0
      },
      "text/plain": [
       "Validation: 0it [00:00, ?it/s]"
      ]
     },
     "metadata": {},
     "output_type": "display_data"
    },
    {
     "name": "stdout",
     "output_type": "stream",
     "text": [
      "Epoch 00006\n",
      "\tlr: 1.000e-02\n",
      "\tcv loss: 3.551e-02\n",
      "\ttr loss: 3.307e-02 | (1.30 s | 0.02 m)\n"
     ]
    },
    {
     "data": {
      "application/vnd.jupyter.widget-view+json": {
       "model_id": "",
       "version_major": 2,
       "version_minor": 0
      },
      "text/plain": [
       "Validation: 0it [00:00, ?it/s]"
      ]
     },
     "metadata": {},
     "output_type": "display_data"
    },
    {
     "name": "stdout",
     "output_type": "stream",
     "text": [
      "Epoch 00007\n",
      "\tlr: 1.000e-02\n",
      "\tcv loss: 3.241e-02\n",
      "\ttr loss: 3.087e-02 | (1.35 s | 0.02 m)\n"
     ]
    },
    {
     "data": {
      "application/vnd.jupyter.widget-view+json": {
       "model_id": "",
       "version_major": 2,
       "version_minor": 0
      },
      "text/plain": [
       "Validation: 0it [00:00, ?it/s]"
      ]
     },
     "metadata": {},
     "output_type": "display_data"
    },
    {
     "name": "stdout",
     "output_type": "stream",
     "text": [
      "Epoch 00008\n",
      "\tlr: 1.000e-02\n",
      "\tcv loss: 5.046e-02\n",
      "\ttr loss: 3.017e-02 | (1.31 s | 0.02 m)\n"
     ]
    },
    {
     "data": {
      "application/vnd.jupyter.widget-view+json": {
       "model_id": "",
       "version_major": 2,
       "version_minor": 0
      },
      "text/plain": [
       "Validation: 0it [00:00, ?it/s]"
      ]
     },
     "metadata": {},
     "output_type": "display_data"
    },
    {
     "name": "stdout",
     "output_type": "stream",
     "text": [
      "Epoch 00009\n",
      "\tlr: 1.000e-02\n",
      "\tcv loss: 3.706e-02\n",
      "\ttr loss: 3.046e-02 | (1.29 s | 0.02 m)\n"
     ]
    },
    {
     "data": {
      "application/vnd.jupyter.widget-view+json": {
       "model_id": "",
       "version_major": 2,
       "version_minor": 0
      },
      "text/plain": [
       "Validation: 0it [00:00, ?it/s]"
      ]
     },
     "metadata": {},
     "output_type": "display_data"
    },
    {
     "name": "stdout",
     "output_type": "stream",
     "text": [
      "Epoch 00010\n",
      "\tlr: 1.000e-02\n",
      "\tcv loss: 3.061e-02\n",
      "\ttr loss: 2.799e-02 | (1.34 s | 0.02 m)\n"
     ]
    },
    {
     "data": {
      "application/vnd.jupyter.widget-view+json": {
       "model_id": "",
       "version_major": 2,
       "version_minor": 0
      },
      "text/plain": [
       "Validation: 0it [00:00, ?it/s]"
      ]
     },
     "metadata": {},
     "output_type": "display_data"
    },
    {
     "name": "stdout",
     "output_type": "stream",
     "text": [
      "Epoch 00011\n",
      "\tlr: 1.000e-02\n",
      "\tcv loss: 3.296e-02\n",
      "\ttr loss: 2.852e-02 | (1.30 s | 0.02 m)\n"
     ]
    },
    {
     "data": {
      "application/vnd.jupyter.widget-view+json": {
       "model_id": "",
       "version_major": 2,
       "version_minor": 0
      },
      "text/plain": [
       "Validation: 0it [00:00, ?it/s]"
      ]
     },
     "metadata": {},
     "output_type": "display_data"
    },
    {
     "name": "stdout",
     "output_type": "stream",
     "text": [
      "Epoch 00012\n",
      "\tlr: 1.000e-02\n",
      "\tcv loss: 3.169e-02\n",
      "\ttr loss: 2.722e-02 | (1.34 s | 0.02 m)\n"
     ]
    },
    {
     "data": {
      "application/vnd.jupyter.widget-view+json": {
       "model_id": "",
       "version_major": 2,
       "version_minor": 0
      },
      "text/plain": [
       "Validation: 0it [00:00, ?it/s]"
      ]
     },
     "metadata": {},
     "output_type": "display_data"
    },
    {
     "name": "stdout",
     "output_type": "stream",
     "text": [
      "Epoch 00013\n",
      "\tlr: 1.000e-02\n",
      "\tcv loss: 2.903e-02\n",
      "\ttr loss: 2.628e-02 | (1.34 s | 0.02 m)\n"
     ]
    },
    {
     "data": {
      "application/vnd.jupyter.widget-view+json": {
       "model_id": "",
       "version_major": 2,
       "version_minor": 0
      },
      "text/plain": [
       "Validation: 0it [00:00, ?it/s]"
      ]
     },
     "metadata": {},
     "output_type": "display_data"
    },
    {
     "name": "stdout",
     "output_type": "stream",
     "text": [
      "Epoch 00014\n",
      "\tlr: 1.000e-02\n",
      "\tcv loss: 2.815e-02\n",
      "\ttr loss: 2.560e-02 | (1.30 s | 0.02 m)\n"
     ]
    },
    {
     "data": {
      "application/vnd.jupyter.widget-view+json": {
       "model_id": "",
       "version_major": 2,
       "version_minor": 0
      },
      "text/plain": [
       "Validation: 0it [00:00, ?it/s]"
      ]
     },
     "metadata": {},
     "output_type": "display_data"
    },
    {
     "name": "stdout",
     "output_type": "stream",
     "text": [
      "Epoch 00015\n",
      "\tlr: 1.000e-02\n",
      "\tcv loss: 2.624e-02\n",
      "\ttr loss: 2.540e-02 | (1.32 s | 0.02 m)\n"
     ]
    },
    {
     "data": {
      "application/vnd.jupyter.widget-view+json": {
       "model_id": "",
       "version_major": 2,
       "version_minor": 0
      },
      "text/plain": [
       "Validation: 0it [00:00, ?it/s]"
      ]
     },
     "metadata": {},
     "output_type": "display_data"
    },
    {
     "name": "stdout",
     "output_type": "stream",
     "text": [
      "Epoch 00016\n",
      "\tlr: 1.000e-02\n",
      "\tcv loss: 2.562e-02\n",
      "\ttr loss: 2.584e-02 | (1.34 s | 0.02 m)\n"
     ]
    },
    {
     "data": {
      "application/vnd.jupyter.widget-view+json": {
       "model_id": "",
       "version_major": 2,
       "version_minor": 0
      },
      "text/plain": [
       "Validation: 0it [00:00, ?it/s]"
      ]
     },
     "metadata": {},
     "output_type": "display_data"
    },
    {
     "name": "stdout",
     "output_type": "stream",
     "text": [
      "Epoch 00017\n",
      "\tlr: 1.000e-02\n",
      "\tcv loss: 3.180e-02\n",
      "\ttr loss: 2.540e-02 | (1.30 s | 0.02 m)\n"
     ]
    },
    {
     "data": {
      "application/vnd.jupyter.widget-view+json": {
       "model_id": "",
       "version_major": 2,
       "version_minor": 0
      },
      "text/plain": [
       "Validation: 0it [00:00, ?it/s]"
      ]
     },
     "metadata": {},
     "output_type": "display_data"
    },
    {
     "name": "stdout",
     "output_type": "stream",
     "text": [
      "Epoch 00018\n",
      "\tlr: 1.000e-02\n",
      "\tcv loss: 2.750e-02\n",
      "\ttr loss: 2.513e-02 | (1.32 s | 0.02 m)\n"
     ]
    },
    {
     "data": {
      "application/vnd.jupyter.widget-view+json": {
       "model_id": "",
       "version_major": 2,
       "version_minor": 0
      },
      "text/plain": [
       "Validation: 0it [00:00, ?it/s]"
      ]
     },
     "metadata": {},
     "output_type": "display_data"
    },
    {
     "name": "stdout",
     "output_type": "stream",
     "text": [
      "Epoch 00019\n",
      "\tlr: 1.000e-02\n",
      "\tcv loss: 2.501e-02\n",
      "\ttr loss: 2.632e-02 | (1.35 s | 0.02 m)\n"
     ]
    },
    {
     "data": {
      "application/vnd.jupyter.widget-view+json": {
       "model_id": "",
       "version_major": 2,
       "version_minor": 0
      },
      "text/plain": [
       "Validation: 0it [00:00, ?it/s]"
      ]
     },
     "metadata": {},
     "output_type": "display_data"
    },
    {
     "name": "stdout",
     "output_type": "stream",
     "text": [
      "Epoch 00020\n",
      "\tlr: 1.000e-02\n",
      "\tcv loss: 2.565e-02\n",
      "\ttr loss: 2.460e-02 | (1.32 s | 0.02 m)\n"
     ]
    },
    {
     "data": {
      "application/vnd.jupyter.widget-view+json": {
       "model_id": "",
       "version_major": 2,
       "version_minor": 0
      },
      "text/plain": [
       "Validation: 0it [00:00, ?it/s]"
      ]
     },
     "metadata": {},
     "output_type": "display_data"
    },
    {
     "name": "stdout",
     "output_type": "stream",
     "text": [
      "Epoch 00021\n",
      "\tlr: 1.000e-02\n",
      "\tcv loss: 2.715e-02\n",
      "\ttr loss: 2.385e-02 | (1.31 s | 0.02 m)\n"
     ]
    },
    {
     "data": {
      "application/vnd.jupyter.widget-view+json": {
       "model_id": "",
       "version_major": 2,
       "version_minor": 0
      },
      "text/plain": [
       "Validation: 0it [00:00, ?it/s]"
      ]
     },
     "metadata": {},
     "output_type": "display_data"
    },
    {
     "name": "stdout",
     "output_type": "stream",
     "text": [
      "Epoch 00022\n",
      "\tlr: 1.000e-02\n",
      "\tcv loss: 2.632e-02\n",
      "\ttr loss: 2.369e-02 | (1.34 s | 0.02 m)\n"
     ]
    },
    {
     "data": {
      "application/vnd.jupyter.widget-view+json": {
       "model_id": "",
       "version_major": 2,
       "version_minor": 0
      },
      "text/plain": [
       "Validation: 0it [00:00, ?it/s]"
      ]
     },
     "metadata": {},
     "output_type": "display_data"
    },
    {
     "name": "stdout",
     "output_type": "stream",
     "text": [
      "Epoch 00023\n",
      "\tlr: 1.000e-02\n",
      "\tcv loss: 2.778e-02\n",
      "\ttr loss: 2.317e-02 | (1.32 s | 0.02 m)\n"
     ]
    },
    {
     "data": {
      "application/vnd.jupyter.widget-view+json": {
       "model_id": "",
       "version_major": 2,
       "version_minor": 0
      },
      "text/plain": [
       "Validation: 0it [00:00, ?it/s]"
      ]
     },
     "metadata": {},
     "output_type": "display_data"
    },
    {
     "name": "stdout",
     "output_type": "stream",
     "text": [
      "Epoch 00024\n",
      "\tlr: 1.000e-02\n",
      "\tcv loss: 2.619e-02\n",
      "\ttr loss: 2.307e-02 | (1.34 s | 0.02 m)\n"
     ]
    },
    {
     "data": {
      "application/vnd.jupyter.widget-view+json": {
       "model_id": "",
       "version_major": 2,
       "version_minor": 0
      },
      "text/plain": [
       "Validation: 0it [00:00, ?it/s]"
      ]
     },
     "metadata": {},
     "output_type": "display_data"
    },
    {
     "name": "stdout",
     "output_type": "stream",
     "text": [
      "Epoch 00025\n",
      "\tlr: 1.000e-02\n",
      "\tcv loss: 2.427e-02\n",
      "\ttr loss: 2.292e-02 | (1.31 s | 0.02 m)\n"
     ]
    },
    {
     "data": {
      "application/vnd.jupyter.widget-view+json": {
       "model_id": "",
       "version_major": 2,
       "version_minor": 0
      },
      "text/plain": [
       "Validation: 0it [00:00, ?it/s]"
      ]
     },
     "metadata": {},
     "output_type": "display_data"
    },
    {
     "name": "stdout",
     "output_type": "stream",
     "text": [
      "Epoch 00026\n",
      "\tlr: 1.000e-02\n",
      "\tcv loss: 2.628e-02\n",
      "\ttr loss: 2.265e-02 | (1.31 s | 0.02 m)\n"
     ]
    },
    {
     "data": {
      "application/vnd.jupyter.widget-view+json": {
       "model_id": "",
       "version_major": 2,
       "version_minor": 0
      },
      "text/plain": [
       "Validation: 0it [00:00, ?it/s]"
      ]
     },
     "metadata": {},
     "output_type": "display_data"
    },
    {
     "name": "stdout",
     "output_type": "stream",
     "text": [
      "Epoch 00027\n",
      "\tlr: 1.000e-02\n",
      "\tcv loss: 2.438e-02\n",
      "\ttr loss: 2.268e-02 | (1.35 s | 0.02 m)\n"
     ]
    },
    {
     "data": {
      "application/vnd.jupyter.widget-view+json": {
       "model_id": "",
       "version_major": 2,
       "version_minor": 0
      },
      "text/plain": [
       "Validation: 0it [00:00, ?it/s]"
      ]
     },
     "metadata": {},
     "output_type": "display_data"
    },
    {
     "name": "stdout",
     "output_type": "stream",
     "text": [
      "Epoch 00028\n",
      "\tlr: 1.000e-02\n",
      "\tcv loss: 2.635e-02\n",
      "\ttr loss: 2.224e-02 | (1.32 s | 0.02 m)\n"
     ]
    },
    {
     "data": {
      "application/vnd.jupyter.widget-view+json": {
       "model_id": "",
       "version_major": 2,
       "version_minor": 0
      },
      "text/plain": [
       "Validation: 0it [00:00, ?it/s]"
      ]
     },
     "metadata": {},
     "output_type": "display_data"
    },
    {
     "name": "stdout",
     "output_type": "stream",
     "text": [
      "Epoch 00029\n",
      "\tlr: 1.000e-02\n",
      "\tcv loss: 2.945e-02\n",
      "\ttr loss: 2.190e-02 | (1.31 s | 0.02 m)\n"
     ]
    },
    {
     "data": {
      "application/vnd.jupyter.widget-view+json": {
       "model_id": "",
       "version_major": 2,
       "version_minor": 0
      },
      "text/plain": [
       "Validation: 0it [00:00, ?it/s]"
      ]
     },
     "metadata": {},
     "output_type": "display_data"
    },
    {
     "name": "stdout",
     "output_type": "stream",
     "text": [
      "Epoch 00030\n",
      "\tlr: 1.000e-02\n",
      "\tcv loss: 2.505e-02\n",
      "\ttr loss: 2.195e-02 | (1.34 s | 0.02 m)\n"
     ]
    },
    {
     "data": {
      "application/vnd.jupyter.widget-view+json": {
       "model_id": "",
       "version_major": 2,
       "version_minor": 0
      },
      "text/plain": [
       "Validation: 0it [00:00, ?it/s]"
      ]
     },
     "metadata": {},
     "output_type": "display_data"
    },
    {
     "name": "stdout",
     "output_type": "stream",
     "text": [
      "Epoch 00031\n",
      "\tlr: 1.000e-02\n",
      "\tcv loss: 2.920e-02\n",
      "\ttr loss: 2.211e-02 | (1.32 s | 0.02 m)\n"
     ]
    },
    {
     "data": {
      "application/vnd.jupyter.widget-view+json": {
       "model_id": "",
       "version_major": 2,
       "version_minor": 0
      },
      "text/plain": [
       "Validation: 0it [00:00, ?it/s]"
      ]
     },
     "metadata": {},
     "output_type": "display_data"
    },
    {
     "name": "stdout",
     "output_type": "stream",
     "text": [
      "Epoch 00032\n",
      "\tlr: 1.000e-02\n",
      "\tcv loss: 2.456e-02\n",
      "\ttr loss: 2.206e-02 | (1.32 s | 0.02 m)\n"
     ]
    },
    {
     "data": {
      "application/vnd.jupyter.widget-view+json": {
       "model_id": "",
       "version_major": 2,
       "version_minor": 0
      },
      "text/plain": [
       "Validation: 0it [00:00, ?it/s]"
      ]
     },
     "metadata": {},
     "output_type": "display_data"
    },
    {
     "name": "stdout",
     "output_type": "stream",
     "text": [
      "Epoch 00033\n",
      "\tlr: 1.000e-02\n",
      "\tcv loss: 2.583e-02\n",
      "\ttr loss: 2.154e-02 | (1.30 s | 0.02 m)\n"
     ]
    },
    {
     "data": {
      "application/vnd.jupyter.widget-view+json": {
       "model_id": "",
       "version_major": 2,
       "version_minor": 0
      },
      "text/plain": [
       "Validation: 0it [00:00, ?it/s]"
      ]
     },
     "metadata": {},
     "output_type": "display_data"
    },
    {
     "name": "stdout",
     "output_type": "stream",
     "text": [
      "Epoch 00034\n",
      "\tlr: 1.000e-02\n",
      "\tcv loss: 2.637e-02\n",
      "\ttr loss: 2.134e-02 | (1.34 s | 0.02 m)\n"
     ]
    },
    {
     "data": {
      "application/vnd.jupyter.widget-view+json": {
       "model_id": "",
       "version_major": 2,
       "version_minor": 0
      },
      "text/plain": [
       "Validation: 0it [00:00, ?it/s]"
      ]
     },
     "metadata": {},
     "output_type": "display_data"
    },
    {
     "name": "stdout",
     "output_type": "stream",
     "text": [
      "Epoch 00035\n",
      "\tlr: 1.000e-02\n",
      "\tcv loss: 2.683e-02\n",
      "\ttr loss: 2.125e-02 | (1.32 s | 0.02 m)\n"
     ]
    },
    {
     "data": {
      "application/vnd.jupyter.widget-view+json": {
       "model_id": "",
       "version_major": 2,
       "version_minor": 0
      },
      "text/plain": [
       "Validation: 0it [00:00, ?it/s]"
      ]
     },
     "metadata": {},
     "output_type": "display_data"
    },
    {
     "name": "stdout",
     "output_type": "stream",
     "text": [
      "Epoch 00036\n",
      "\tlr: 1.000e-02\n",
      "\tcv loss: 2.547e-02\n",
      "\ttr loss: 2.098e-02 | (1.31 s | 0.02 m)\n"
     ]
    },
    {
     "data": {
      "application/vnd.jupyter.widget-view+json": {
       "model_id": "",
       "version_major": 2,
       "version_minor": 0
      },
      "text/plain": [
       "Validation: 0it [00:00, ?it/s]"
      ]
     },
     "metadata": {},
     "output_type": "display_data"
    },
    {
     "name": "stdout",
     "output_type": "stream",
     "text": [
      "Epoch 00037\n",
      "\tlr: 1.000e-02\n",
      "\tcv loss: 2.356e-02\n",
      "\ttr loss: 2.090e-02 | (1.35 s | 0.02 m)\n"
     ]
    },
    {
     "data": {
      "application/vnd.jupyter.widget-view+json": {
       "model_id": "",
       "version_major": 2,
       "version_minor": 0
      },
      "text/plain": [
       "Validation: 0it [00:00, ?it/s]"
      ]
     },
     "metadata": {},
     "output_type": "display_data"
    },
    {
     "name": "stdout",
     "output_type": "stream",
     "text": [
      "Epoch 00038\n",
      "\tlr: 1.000e-02\n",
      "\tcv loss: 2.286e-02\n",
      "\ttr loss: 2.101e-02 | (1.31 s | 0.02 m)\n"
     ]
    },
    {
     "data": {
      "application/vnd.jupyter.widget-view+json": {
       "model_id": "",
       "version_major": 2,
       "version_minor": 0
      },
      "text/plain": [
       "Validation: 0it [00:00, ?it/s]"
      ]
     },
     "metadata": {},
     "output_type": "display_data"
    },
    {
     "name": "stdout",
     "output_type": "stream",
     "text": [
      "Epoch 00039\n",
      "\tlr: 1.000e-02\n",
      "\tcv loss: 2.341e-02\n",
      "\ttr loss: 2.091e-02 | (1.32 s | 0.02 m)\n"
     ]
    },
    {
     "data": {
      "application/vnd.jupyter.widget-view+json": {
       "model_id": "",
       "version_major": 2,
       "version_minor": 0
      },
      "text/plain": [
       "Validation: 0it [00:00, ?it/s]"
      ]
     },
     "metadata": {},
     "output_type": "display_data"
    },
    {
     "name": "stdout",
     "output_type": "stream",
     "text": [
      "Epoch 00040\n",
      "\tlr: 1.000e-02\n",
      "\tcv loss: 2.467e-02\n",
      "\ttr loss: 2.113e-02 | (1.35 s | 0.02 m)\n"
     ]
    },
    {
     "data": {
      "application/vnd.jupyter.widget-view+json": {
       "model_id": "",
       "version_major": 2,
       "version_minor": 0
      },
      "text/plain": [
       "Validation: 0it [00:00, ?it/s]"
      ]
     },
     "metadata": {},
     "output_type": "display_data"
    },
    {
     "name": "stdout",
     "output_type": "stream",
     "text": [
      "Epoch 00041\n",
      "\tlr: 1.000e-02\n",
      "\tcv loss: 2.351e-02\n",
      "\ttr loss: 2.069e-02 | (1.31 s | 0.02 m)\n"
     ]
    },
    {
     "data": {
      "application/vnd.jupyter.widget-view+json": {
       "model_id": "",
       "version_major": 2,
       "version_minor": 0
      },
      "text/plain": [
       "Validation: 0it [00:00, ?it/s]"
      ]
     },
     "metadata": {},
     "output_type": "display_data"
    },
    {
     "name": "stdout",
     "output_type": "stream",
     "text": [
      "Epoch 00042\n",
      "\tlr: 1.000e-02\n",
      "\tcv loss: 2.260e-02\n",
      "\ttr loss: 2.059e-02 | (1.32 s | 0.02 m)\n"
     ]
    },
    {
     "data": {
      "application/vnd.jupyter.widget-view+json": {
       "model_id": "",
       "version_major": 2,
       "version_minor": 0
      },
      "text/plain": [
       "Validation: 0it [00:00, ?it/s]"
      ]
     },
     "metadata": {},
     "output_type": "display_data"
    },
    {
     "name": "stdout",
     "output_type": "stream",
     "text": [
      "Epoch 00043\n",
      "\tlr: 1.000e-02\n",
      "\tcv loss: 2.648e-02\n",
      "\ttr loss: 2.043e-02 | (1.33 s | 0.02 m)\n"
     ]
    },
    {
     "data": {
      "application/vnd.jupyter.widget-view+json": {
       "model_id": "",
       "version_major": 2,
       "version_minor": 0
      },
      "text/plain": [
       "Validation: 0it [00:00, ?it/s]"
      ]
     },
     "metadata": {},
     "output_type": "display_data"
    },
    {
     "name": "stdout",
     "output_type": "stream",
     "text": [
      "Epoch 00044\n",
      "\tlr: 1.000e-02\n",
      "\tcv loss: 2.582e-02\n",
      "\ttr loss: 2.037e-02 | (1.36 s | 0.02 m)\n"
     ]
    },
    {
     "data": {
      "application/vnd.jupyter.widget-view+json": {
       "model_id": "",
       "version_major": 2,
       "version_minor": 0
      },
      "text/plain": [
       "Validation: 0it [00:00, ?it/s]"
      ]
     },
     "metadata": {},
     "output_type": "display_data"
    },
    {
     "name": "stdout",
     "output_type": "stream",
     "text": [
      "Epoch 00045\n",
      "\tlr: 1.000e-02\n",
      "\tcv loss: 2.655e-02\n",
      "\ttr loss: 1.994e-02 | (1.31 s | 0.02 m)\n"
     ]
    },
    {
     "data": {
      "application/vnd.jupyter.widget-view+json": {
       "model_id": "",
       "version_major": 2,
       "version_minor": 0
      },
      "text/plain": [
       "Validation: 0it [00:00, ?it/s]"
      ]
     },
     "metadata": {},
     "output_type": "display_data"
    },
    {
     "name": "stdout",
     "output_type": "stream",
     "text": [
      "Epoch 00046\n",
      "\tlr: 1.000e-02\n",
      "\tcv loss: 2.343e-02\n",
      "\ttr loss: 2.086e-02 | (1.31 s | 0.02 m)\n"
     ]
    },
    {
     "data": {
      "application/vnd.jupyter.widget-view+json": {
       "model_id": "",
       "version_major": 2,
       "version_minor": 0
      },
      "text/plain": [
       "Validation: 0it [00:00, ?it/s]"
      ]
     },
     "metadata": {},
     "output_type": "display_data"
    },
    {
     "name": "stdout",
     "output_type": "stream",
     "text": [
      "Epoch 00047\n",
      "\tlr: 1.000e-02\n",
      "\tcv loss: 2.253e-02\n",
      "\ttr loss: 1.978e-02 | (1.35 s | 0.02 m)\n"
     ]
    },
    {
     "data": {
      "application/vnd.jupyter.widget-view+json": {
       "model_id": "",
       "version_major": 2,
       "version_minor": 0
      },
      "text/plain": [
       "Validation: 0it [00:00, ?it/s]"
      ]
     },
     "metadata": {},
     "output_type": "display_data"
    },
    {
     "name": "stdout",
     "output_type": "stream",
     "text": [
      "Epoch 00048\n",
      "\tlr: 1.000e-02\n",
      "\tcv loss: 2.365e-02\n",
      "\ttr loss: 1.944e-02 | (1.31 s | 0.02 m)\n"
     ]
    },
    {
     "data": {
      "application/vnd.jupyter.widget-view+json": {
       "model_id": "",
       "version_major": 2,
       "version_minor": 0
      },
      "text/plain": [
       "Validation: 0it [00:00, ?it/s]"
      ]
     },
     "metadata": {},
     "output_type": "display_data"
    },
    {
     "name": "stdout",
     "output_type": "stream",
     "text": [
      "Epoch 00049\n",
      "\tlr: 1.000e-02\n",
      "\tcv loss: 2.811e-02\n",
      "\ttr loss: 2.079e-02 | (1.33 s | 0.02 m)\n"
     ]
    },
    {
     "data": {
      "application/vnd.jupyter.widget-view+json": {
       "model_id": "",
       "version_major": 2,
       "version_minor": 0
      },
      "text/plain": [
       "Validation: 0it [00:00, ?it/s]"
      ]
     },
     "metadata": {},
     "output_type": "display_data"
    },
    {
     "name": "stdout",
     "output_type": "stream",
     "text": [
      "Epoch 00050\n",
      "\tlr: 1.000e-02\n",
      "\tcv loss: 2.248e-02\n",
      "\ttr loss: 2.007e-02 | (1.35 s | 0.02 m)\n"
     ]
    },
    {
     "data": {
      "application/vnd.jupyter.widget-view+json": {
       "model_id": "",
       "version_major": 2,
       "version_minor": 0
      },
      "text/plain": [
       "Validation: 0it [00:00, ?it/s]"
      ]
     },
     "metadata": {},
     "output_type": "display_data"
    },
    {
     "name": "stdout",
     "output_type": "stream",
     "text": [
      "Epoch 00051\n",
      "\tlr: 1.000e-02\n",
      "\tcv loss: 2.137e-02\n",
      "\ttr loss: 1.959e-02 | (1.35 s | 0.02 m)\n"
     ]
    },
    {
     "data": {
      "application/vnd.jupyter.widget-view+json": {
       "model_id": "",
       "version_major": 2,
       "version_minor": 0
      },
      "text/plain": [
       "Validation: 0it [00:00, ?it/s]"
      ]
     },
     "metadata": {},
     "output_type": "display_data"
    },
    {
     "name": "stdout",
     "output_type": "stream",
     "text": [
      "Epoch 00052\n",
      "\tlr: 1.000e-02\n",
      "\tcv loss: 2.331e-02\n",
      "\ttr loss: 1.908e-02 | (1.36 s | 0.02 m)\n"
     ]
    },
    {
     "data": {
      "application/vnd.jupyter.widget-view+json": {
       "model_id": "",
       "version_major": 2,
       "version_minor": 0
      },
      "text/plain": [
       "Validation: 0it [00:00, ?it/s]"
      ]
     },
     "metadata": {},
     "output_type": "display_data"
    },
    {
     "name": "stdout",
     "output_type": "stream",
     "text": [
      "Epoch 00053\n",
      "\tlr: 1.000e-02\n",
      "\tcv loss: 2.281e-02\n",
      "\ttr loss: 1.965e-02 | (1.40 s | 0.02 m)\n"
     ]
    },
    {
     "data": {
      "application/vnd.jupyter.widget-view+json": {
       "model_id": "",
       "version_major": 2,
       "version_minor": 0
      },
      "text/plain": [
       "Validation: 0it [00:00, ?it/s]"
      ]
     },
     "metadata": {},
     "output_type": "display_data"
    },
    {
     "name": "stdout",
     "output_type": "stream",
     "text": [
      "Epoch 00054\n",
      "\tlr: 1.000e-02\n",
      "\tcv loss: 2.218e-02\n",
      "\ttr loss: 1.973e-02 | (1.36 s | 0.02 m)\n"
     ]
    },
    {
     "data": {
      "application/vnd.jupyter.widget-view+json": {
       "model_id": "",
       "version_major": 2,
       "version_minor": 0
      },
      "text/plain": [
       "Validation: 0it [00:00, ?it/s]"
      ]
     },
     "metadata": {},
     "output_type": "display_data"
    },
    {
     "name": "stdout",
     "output_type": "stream",
     "text": [
      "Epoch 00055\n",
      "\tlr: 1.000e-02\n",
      "\tcv loss: 2.218e-02\n",
      "\ttr loss: 1.918e-02 | (1.38 s | 0.02 m)\n"
     ]
    },
    {
     "data": {
      "application/vnd.jupyter.widget-view+json": {
       "model_id": "",
       "version_major": 2,
       "version_minor": 0
      },
      "text/plain": [
       "Validation: 0it [00:00, ?it/s]"
      ]
     },
     "metadata": {},
     "output_type": "display_data"
    },
    {
     "name": "stdout",
     "output_type": "stream",
     "text": [
      "Epoch 00056\n",
      "\tlr: 1.000e-02\n",
      "\tcv loss: 2.243e-02\n",
      "\ttr loss: 1.873e-02 | (1.43 s | 0.02 m)\n"
     ]
    },
    {
     "data": {
      "application/vnd.jupyter.widget-view+json": {
       "model_id": "",
       "version_major": 2,
       "version_minor": 0
      },
      "text/plain": [
       "Validation: 0it [00:00, ?it/s]"
      ]
     },
     "metadata": {},
     "output_type": "display_data"
    },
    {
     "name": "stdout",
     "output_type": "stream",
     "text": [
      "Epoch 00057\n",
      "\tlr: 1.000e-02\n",
      "\tcv loss: 2.154e-02\n",
      "\ttr loss: 2.015e-02 | (1.37 s | 0.02 m)\n"
     ]
    },
    {
     "data": {
      "application/vnd.jupyter.widget-view+json": {
       "model_id": "",
       "version_major": 2,
       "version_minor": 0
      },
      "text/plain": [
       "Validation: 0it [00:00, ?it/s]"
      ]
     },
     "metadata": {},
     "output_type": "display_data"
    },
    {
     "name": "stdout",
     "output_type": "stream",
     "text": [
      "Epoch 00058\n",
      "\tlr: 1.000e-02\n",
      "\tcv loss: 2.107e-02\n",
      "\ttr loss: 1.891e-02 | (1.36 s | 0.02 m)\n"
     ]
    },
    {
     "data": {
      "application/vnd.jupyter.widget-view+json": {
       "model_id": "",
       "version_major": 2,
       "version_minor": 0
      },
      "text/plain": [
       "Validation: 0it [00:00, ?it/s]"
      ]
     },
     "metadata": {},
     "output_type": "display_data"
    },
    {
     "name": "stdout",
     "output_type": "stream",
     "text": [
      "Epoch 00059\n",
      "\tlr: 1.000e-02\n",
      "\tcv loss: 2.357e-02\n",
      "\ttr loss: 1.842e-02 | (1.37 s | 0.02 m)\n"
     ]
    },
    {
     "data": {
      "application/vnd.jupyter.widget-view+json": {
       "model_id": "",
       "version_major": 2,
       "version_minor": 0
      },
      "text/plain": [
       "Validation: 0it [00:00, ?it/s]"
      ]
     },
     "metadata": {},
     "output_type": "display_data"
    },
    {
     "name": "stdout",
     "output_type": "stream",
     "text": [
      "Epoch 00060\n",
      "\tlr: 1.000e-02\n",
      "\tcv loss: 2.299e-02\n",
      "\ttr loss: 1.841e-02 | (1.40 s | 0.02 m)\n"
     ]
    },
    {
     "data": {
      "application/vnd.jupyter.widget-view+json": {
       "model_id": "",
       "version_major": 2,
       "version_minor": 0
      },
      "text/plain": [
       "Validation: 0it [00:00, ?it/s]"
      ]
     },
     "metadata": {},
     "output_type": "display_data"
    },
    {
     "name": "stdout",
     "output_type": "stream",
     "text": [
      "Epoch 00061\n",
      "\tlr: 1.000e-02\n",
      "\tcv loss: 2.206e-02\n",
      "\ttr loss: 1.808e-02 | (1.38 s | 0.02 m)\n"
     ]
    },
    {
     "data": {
      "application/vnd.jupyter.widget-view+json": {
       "model_id": "",
       "version_major": 2,
       "version_minor": 0
      },
      "text/plain": [
       "Validation: 0it [00:00, ?it/s]"
      ]
     },
     "metadata": {},
     "output_type": "display_data"
    },
    {
     "name": "stdout",
     "output_type": "stream",
     "text": [
      "Epoch 00062\n",
      "\tlr: 1.000e-02\n",
      "\tcv loss: 2.334e-02\n",
      "\ttr loss: 1.811e-02 | (1.36 s | 0.02 m)\n"
     ]
    },
    {
     "data": {
      "application/vnd.jupyter.widget-view+json": {
       "model_id": "",
       "version_major": 2,
       "version_minor": 0
      },
      "text/plain": [
       "Validation: 0it [00:00, ?it/s]"
      ]
     },
     "metadata": {},
     "output_type": "display_data"
    },
    {
     "name": "stdout",
     "output_type": "stream",
     "text": [
      "Epoch 00063\n",
      "\tlr: 1.000e-02\n",
      "\tcv loss: 2.263e-02\n",
      "\ttr loss: 1.808e-02 | (1.39 s | 0.02 m)\n"
     ]
    },
    {
     "data": {
      "application/vnd.jupyter.widget-view+json": {
       "model_id": "",
       "version_major": 2,
       "version_minor": 0
      },
      "text/plain": [
       "Validation: 0it [00:00, ?it/s]"
      ]
     },
     "metadata": {},
     "output_type": "display_data"
    },
    {
     "name": "stdout",
     "output_type": "stream",
     "text": [
      "Epoch 00064\n",
      "\tlr: 1.000e-02\n",
      "\tcv loss: 2.284e-02\n",
      "\ttr loss: 1.830e-02 | (1.38 s | 0.02 m)\n"
     ]
    },
    {
     "data": {
      "application/vnd.jupyter.widget-view+json": {
       "model_id": "",
       "version_major": 2,
       "version_minor": 0
      },
      "text/plain": [
       "Validation: 0it [00:00, ?it/s]"
      ]
     },
     "metadata": {},
     "output_type": "display_data"
    },
    {
     "name": "stdout",
     "output_type": "stream",
     "text": [
      "Epoch 00065\n",
      "\tlr: 1.000e-02\n",
      "\tcv loss: 2.386e-02\n",
      "\ttr loss: 1.863e-02 | (1.36 s | 0.02 m)\n"
     ]
    },
    {
     "data": {
      "application/vnd.jupyter.widget-view+json": {
       "model_id": "",
       "version_major": 2,
       "version_minor": 0
      },
      "text/plain": [
       "Validation: 0it [00:00, ?it/s]"
      ]
     },
     "metadata": {},
     "output_type": "display_data"
    },
    {
     "name": "stdout",
     "output_type": "stream",
     "text": [
      "Epoch 00066\n",
      "\tlr: 1.000e-02\n",
      "\tcv loss: 2.219e-02\n",
      "\ttr loss: 1.845e-02 | (1.39 s | 0.02 m)\n"
     ]
    },
    {
     "data": {
      "application/vnd.jupyter.widget-view+json": {
       "model_id": "",
       "version_major": 2,
       "version_minor": 0
      },
      "text/plain": [
       "Validation: 0it [00:00, ?it/s]"
      ]
     },
     "metadata": {},
     "output_type": "display_data"
    },
    {
     "name": "stdout",
     "output_type": "stream",
     "text": [
      "Epoch 00067\n",
      "\tlr: 1.000e-02\n",
      "\tcv loss: 2.222e-02\n",
      "\ttr loss: 1.782e-02 | (1.36 s | 0.02 m)\n"
     ]
    },
    {
     "data": {
      "application/vnd.jupyter.widget-view+json": {
       "model_id": "",
       "version_major": 2,
       "version_minor": 0
      },
      "text/plain": [
       "Validation: 0it [00:00, ?it/s]"
      ]
     },
     "metadata": {},
     "output_type": "display_data"
    },
    {
     "name": "stdout",
     "output_type": "stream",
     "text": [
      "Epoch 00068\n",
      "\tlr: 1.000e-02\n",
      "\tcv loss: 2.312e-02\n",
      "\ttr loss: 1.777e-02 | (1.36 s | 0.02 m)\n"
     ]
    },
    {
     "data": {
      "application/vnd.jupyter.widget-view+json": {
       "model_id": "",
       "version_major": 2,
       "version_minor": 0
      },
      "text/plain": [
       "Validation: 0it [00:00, ?it/s]"
      ]
     },
     "metadata": {},
     "output_type": "display_data"
    },
    {
     "name": "stdout",
     "output_type": "stream",
     "text": [
      "Epoch 00069\n",
      "\tlr: 1.000e-02\n",
      "\tcv loss: 2.242e-02\n",
      "\ttr loss: 1.772e-02 | (1.40 s | 0.02 m)\n"
     ]
    },
    {
     "data": {
      "application/vnd.jupyter.widget-view+json": {
       "model_id": "",
       "version_major": 2,
       "version_minor": 0
      },
      "text/plain": [
       "Validation: 0it [00:00, ?it/s]"
      ]
     },
     "metadata": {},
     "output_type": "display_data"
    },
    {
     "name": "stdout",
     "output_type": "stream",
     "text": [
      "Epoch 00070\n",
      "\tlr: 1.000e-02\n",
      "\tcv loss: 2.385e-02\n",
      "\ttr loss: 1.749e-02 | (1.36 s | 0.02 m)\n"
     ]
    },
    {
     "data": {
      "application/vnd.jupyter.widget-view+json": {
       "model_id": "",
       "version_major": 2,
       "version_minor": 0
      },
      "text/plain": [
       "Validation: 0it [00:00, ?it/s]"
      ]
     },
     "metadata": {},
     "output_type": "display_data"
    },
    {
     "name": "stdout",
     "output_type": "stream",
     "text": [
      "Epoch 00071\n",
      "\tlr: 1.000e-02\n",
      "\tcv loss: 2.170e-02\n",
      "\ttr loss: 1.821e-02 | (1.37 s | 0.02 m)\n"
     ]
    },
    {
     "data": {
      "application/vnd.jupyter.widget-view+json": {
       "model_id": "",
       "version_major": 2,
       "version_minor": 0
      },
      "text/plain": [
       "Validation: 0it [00:00, ?it/s]"
      ]
     },
     "metadata": {},
     "output_type": "display_data"
    },
    {
     "name": "stdout",
     "output_type": "stream",
     "text": [
      "Epoch 00072\n",
      "\tlr: 1.000e-02\n",
      "\tcv loss: 2.330e-02\n",
      "\ttr loss: 1.745e-02 | (1.45 s | 0.02 m)\n"
     ]
    },
    {
     "data": {
      "application/vnd.jupyter.widget-view+json": {
       "model_id": "",
       "version_major": 2,
       "version_minor": 0
      },
      "text/plain": [
       "Validation: 0it [00:00, ?it/s]"
      ]
     },
     "metadata": {},
     "output_type": "display_data"
    },
    {
     "name": "stdout",
     "output_type": "stream",
     "text": [
      "Epoch 00073\n",
      "\tlr: 1.000e-02\n",
      "\tcv loss: 2.137e-02\n",
      "\ttr loss: 1.739e-02 | (1.36 s | 0.02 m)\n"
     ]
    },
    {
     "data": {
      "application/vnd.jupyter.widget-view+json": {
       "model_id": "",
       "version_major": 2,
       "version_minor": 0
      },
      "text/plain": [
       "Validation: 0it [00:00, ?it/s]"
      ]
     },
     "metadata": {},
     "output_type": "display_data"
    },
    {
     "name": "stdout",
     "output_type": "stream",
     "text": [
      "Epoch 00074\n",
      "\tlr: 1.000e-02\n",
      "\tcv loss: 2.429e-02\n",
      "\ttr loss: 1.741e-02 | (1.36 s | 0.02 m)\n"
     ]
    },
    {
     "data": {
      "application/vnd.jupyter.widget-view+json": {
       "model_id": "",
       "version_major": 2,
       "version_minor": 0
      },
      "text/plain": [
       "Validation: 0it [00:00, ?it/s]"
      ]
     },
     "metadata": {},
     "output_type": "display_data"
    },
    {
     "name": "stdout",
     "output_type": "stream",
     "text": [
      "Epoch 00075\n",
      "\tlr: 1.000e-02\n",
      "\tcv loss: 2.194e-02\n",
      "\ttr loss: 1.722e-02 | (1.36 s | 0.02 m)\n"
     ]
    },
    {
     "data": {
      "application/vnd.jupyter.widget-view+json": {
       "model_id": "",
       "version_major": 2,
       "version_minor": 0
      },
      "text/plain": [
       "Validation: 0it [00:00, ?it/s]"
      ]
     },
     "metadata": {},
     "output_type": "display_data"
    },
    {
     "name": "stdout",
     "output_type": "stream",
     "text": [
      "Epoch 00076\n",
      "\tlr: 1.000e-02\n",
      "\tcv loss: 2.091e-02\n",
      "\ttr loss: 1.791e-02 | (1.39 s | 0.02 m)\n"
     ]
    },
    {
     "data": {
      "application/vnd.jupyter.widget-view+json": {
       "model_id": "",
       "version_major": 2,
       "version_minor": 0
      },
      "text/plain": [
       "Validation: 0it [00:00, ?it/s]"
      ]
     },
     "metadata": {},
     "output_type": "display_data"
    },
    {
     "name": "stdout",
     "output_type": "stream",
     "text": [
      "Epoch 00077\n",
      "\tlr: 1.000e-02\n",
      "\tcv loss: 2.194e-02\n",
      "\ttr loss: 1.716e-02 | (1.36 s | 0.02 m)\n"
     ]
    },
    {
     "data": {
      "application/vnd.jupyter.widget-view+json": {
       "model_id": "",
       "version_major": 2,
       "version_minor": 0
      },
      "text/plain": [
       "Validation: 0it [00:00, ?it/s]"
      ]
     },
     "metadata": {},
     "output_type": "display_data"
    },
    {
     "name": "stdout",
     "output_type": "stream",
     "text": [
      "Epoch 00078\n",
      "\tlr: 1.000e-02\n",
      "\tcv loss: 2.211e-02\n",
      "\ttr loss: 1.760e-02 | (1.36 s | 0.02 m)\n"
     ]
    },
    {
     "data": {
      "application/vnd.jupyter.widget-view+json": {
       "model_id": "",
       "version_major": 2,
       "version_minor": 0
      },
      "text/plain": [
       "Validation: 0it [00:00, ?it/s]"
      ]
     },
     "metadata": {},
     "output_type": "display_data"
    },
    {
     "name": "stdout",
     "output_type": "stream",
     "text": [
      "Epoch 00079\n",
      "\tlr: 1.000e-02\n",
      "\tcv loss: 2.082e-02\n",
      "\ttr loss: 1.687e-02 | (1.41 s | 0.02 m)\n"
     ]
    },
    {
     "data": {
      "application/vnd.jupyter.widget-view+json": {
       "model_id": "",
       "version_major": 2,
       "version_minor": 0
      },
      "text/plain": [
       "Validation: 0it [00:00, ?it/s]"
      ]
     },
     "metadata": {},
     "output_type": "display_data"
    },
    {
     "name": "stdout",
     "output_type": "stream",
     "text": [
      "Epoch 00080\n",
      "\tlr: 1.000e-02\n",
      "\tcv loss: 2.417e-02\n",
      "\ttr loss: 1.610e-02 | (1.36 s | 0.02 m)\n"
     ]
    },
    {
     "data": {
      "application/vnd.jupyter.widget-view+json": {
       "model_id": "",
       "version_major": 2,
       "version_minor": 0
      },
      "text/plain": [
       "Validation: 0it [00:00, ?it/s]"
      ]
     },
     "metadata": {},
     "output_type": "display_data"
    },
    {
     "name": "stdout",
     "output_type": "stream",
     "text": [
      "Epoch 00081\n",
      "\tlr: 1.000e-02\n",
      "\tcv loss: 2.334e-02\n",
      "\ttr loss: 1.624e-02 | (1.37 s | 0.02 m)\n"
     ]
    },
    {
     "data": {
      "application/vnd.jupyter.widget-view+json": {
       "model_id": "",
       "version_major": 2,
       "version_minor": 0
      },
      "text/plain": [
       "Validation: 0it [00:00, ?it/s]"
      ]
     },
     "metadata": {},
     "output_type": "display_data"
    },
    {
     "name": "stdout",
     "output_type": "stream",
     "text": [
      "Epoch 00082\n",
      "\tlr: 1.000e-02\n",
      "\tcv loss: 2.131e-02\n",
      "\ttr loss: 1.592e-02 | (1.40 s | 0.02 m)\n"
     ]
    },
    {
     "data": {
      "application/vnd.jupyter.widget-view+json": {
       "model_id": "",
       "version_major": 2,
       "version_minor": 0
      },
      "text/plain": [
       "Validation: 0it [00:00, ?it/s]"
      ]
     },
     "metadata": {},
     "output_type": "display_data"
    },
    {
     "name": "stdout",
     "output_type": "stream",
     "text": [
      "Epoch 00083\n",
      "\tlr: 1.000e-02\n",
      "\tcv loss: 2.244e-02\n",
      "\ttr loss: 1.605e-02 | (1.37 s | 0.02 m)\n"
     ]
    },
    {
     "data": {
      "application/vnd.jupyter.widget-view+json": {
       "model_id": "",
       "version_major": 2,
       "version_minor": 0
      },
      "text/plain": [
       "Validation: 0it [00:00, ?it/s]"
      ]
     },
     "metadata": {},
     "output_type": "display_data"
    },
    {
     "name": "stdout",
     "output_type": "stream",
     "text": [
      "Epoch 00084\n",
      "\tlr: 1.000e-02\n",
      "\tcv loss: 2.257e-02\n",
      "\ttr loss: 1.621e-02 | (1.36 s | 0.02 m)\n"
     ]
    },
    {
     "data": {
      "application/vnd.jupyter.widget-view+json": {
       "model_id": "",
       "version_major": 2,
       "version_minor": 0
      },
      "text/plain": [
       "Validation: 0it [00:00, ?it/s]"
      ]
     },
     "metadata": {},
     "output_type": "display_data"
    },
    {
     "name": "stdout",
     "output_type": "stream",
     "text": [
      "Epoch 00085\n",
      "\tlr: 1.000e-02\n",
      "\tcv loss: 2.269e-02\n",
      "\ttr loss: 1.604e-02 | (1.36 s | 0.02 m)\n"
     ]
    },
    {
     "data": {
      "application/vnd.jupyter.widget-view+json": {
       "model_id": "",
       "version_major": 2,
       "version_minor": 0
      },
      "text/plain": [
       "Validation: 0it [00:00, ?it/s]"
      ]
     },
     "metadata": {},
     "output_type": "display_data"
    },
    {
     "name": "stdout",
     "output_type": "stream",
     "text": [
      "Epoch 00086\n",
      "\tlr: 1.000e-02\n",
      "\tcv loss: 2.340e-02\n",
      "\ttr loss: 1.619e-02 | (1.40 s | 0.02 m)\n"
     ]
    },
    {
     "data": {
      "application/vnd.jupyter.widget-view+json": {
       "model_id": "",
       "version_major": 2,
       "version_minor": 0
      },
      "text/plain": [
       "Validation: 0it [00:00, ?it/s]"
      ]
     },
     "metadata": {},
     "output_type": "display_data"
    },
    {
     "name": "stdout",
     "output_type": "stream",
     "text": [
      "Epoch 00087\n",
      "\tlr: 1.000e-02\n",
      "\tcv loss: 2.043e-02\n",
      "\ttr loss: 1.622e-02 | (1.36 s | 0.02 m)\n"
     ]
    },
    {
     "data": {
      "application/vnd.jupyter.widget-view+json": {
       "model_id": "",
       "version_major": 2,
       "version_minor": 0
      },
      "text/plain": [
       "Validation: 0it [00:00, ?it/s]"
      ]
     },
     "metadata": {},
     "output_type": "display_data"
    },
    {
     "name": "stdout",
     "output_type": "stream",
     "text": [
      "Epoch 00088\n",
      "\tlr: 1.000e-02\n",
      "\tcv loss: 2.212e-02\n",
      "\ttr loss: 1.601e-02 | (1.36 s | 0.02 m)\n"
     ]
    },
    {
     "data": {
      "application/vnd.jupyter.widget-view+json": {
       "model_id": "",
       "version_major": 2,
       "version_minor": 0
      },
      "text/plain": [
       "Validation: 0it [00:00, ?it/s]"
      ]
     },
     "metadata": {},
     "output_type": "display_data"
    },
    {
     "name": "stdout",
     "output_type": "stream",
     "text": [
      "Epoch 00089\n",
      "\tlr: 1.000e-02\n",
      "\tcv loss: 2.178e-02\n",
      "\ttr loss: 1.619e-02 | (1.40 s | 0.02 m)\n"
     ]
    },
    {
     "data": {
      "application/vnd.jupyter.widget-view+json": {
       "model_id": "",
       "version_major": 2,
       "version_minor": 0
      },
      "text/plain": [
       "Validation: 0it [00:00, ?it/s]"
      ]
     },
     "metadata": {},
     "output_type": "display_data"
    },
    {
     "name": "stdout",
     "output_type": "stream",
     "text": [
      "Epoch 00090\n",
      "\tlr: 1.000e-02\n",
      "\tcv loss: 2.277e-02\n",
      "\ttr loss: 1.607e-02 | (1.36 s | 0.02 m)\n"
     ]
    },
    {
     "data": {
      "application/vnd.jupyter.widget-view+json": {
       "model_id": "",
       "version_major": 2,
       "version_minor": 0
      },
      "text/plain": [
       "Validation: 0it [00:00, ?it/s]"
      ]
     },
     "metadata": {},
     "output_type": "display_data"
    },
    {
     "name": "stdout",
     "output_type": "stream",
     "text": [
      "Epoch 00091\n",
      "\tlr: 1.000e-02\n",
      "\tcv loss: 2.225e-02\n",
      "\ttr loss: 1.557e-02 | (1.36 s | 0.02 m)\n"
     ]
    },
    {
     "data": {
      "application/vnd.jupyter.widget-view+json": {
       "model_id": "",
       "version_major": 2,
       "version_minor": 0
      },
      "text/plain": [
       "Validation: 0it [00:00, ?it/s]"
      ]
     },
     "metadata": {},
     "output_type": "display_data"
    },
    {
     "name": "stdout",
     "output_type": "stream",
     "text": [
      "Epoch 00092\n",
      "\tlr: 1.000e-02\n",
      "\tcv loss: 2.255e-02\n",
      "\ttr loss: 1.559e-02 | (1.39 s | 0.02 m)\n"
     ]
    },
    {
     "data": {
      "application/vnd.jupyter.widget-view+json": {
       "model_id": "",
       "version_major": 2,
       "version_minor": 0
      },
      "text/plain": [
       "Validation: 0it [00:00, ?it/s]"
      ]
     },
     "metadata": {},
     "output_type": "display_data"
    },
    {
     "name": "stdout",
     "output_type": "stream",
     "text": [
      "Epoch 00093\n",
      "\tlr: 1.000e-02\n",
      "\tcv loss: 2.082e-02\n",
      "\ttr loss: 1.556e-02 | (1.37 s | 0.02 m)\n"
     ]
    },
    {
     "data": {
      "application/vnd.jupyter.widget-view+json": {
       "model_id": "",
       "version_major": 2,
       "version_minor": 0
      },
      "text/plain": [
       "Validation: 0it [00:00, ?it/s]"
      ]
     },
     "metadata": {},
     "output_type": "display_data"
    },
    {
     "name": "stdout",
     "output_type": "stream",
     "text": [
      "Epoch 00094\n",
      "\tlr: 1.000e-02\n",
      "\tcv loss: 2.083e-02\n",
      "\ttr loss: 1.532e-02 | (1.36 s | 0.02 m)\n"
     ]
    },
    {
     "data": {
      "application/vnd.jupyter.widget-view+json": {
       "model_id": "",
       "version_major": 2,
       "version_minor": 0
      },
      "text/plain": [
       "Validation: 0it [00:00, ?it/s]"
      ]
     },
     "metadata": {},
     "output_type": "display_data"
    },
    {
     "name": "stdout",
     "output_type": "stream",
     "text": [
      "Epoch 00095\n",
      "\tlr: 1.000e-02\n",
      "\tcv loss: 2.135e-02\n",
      "\ttr loss: 1.514e-02 | (1.40 s | 0.02 m)\n"
     ]
    },
    {
     "data": {
      "application/vnd.jupyter.widget-view+json": {
       "model_id": "",
       "version_major": 2,
       "version_minor": 0
      },
      "text/plain": [
       "Validation: 0it [00:00, ?it/s]"
      ]
     },
     "metadata": {},
     "output_type": "display_data"
    },
    {
     "name": "stdout",
     "output_type": "stream",
     "text": [
      "Epoch 00096\n",
      "\tlr: 1.000e-02\n",
      "\tcv loss: 2.135e-02\n",
      "\ttr loss: 1.524e-02 | (1.37 s | 0.02 m)\n"
     ]
    },
    {
     "data": {
      "application/vnd.jupyter.widget-view+json": {
       "model_id": "",
       "version_major": 2,
       "version_minor": 0
      },
      "text/plain": [
       "Validation: 0it [00:00, ?it/s]"
      ]
     },
     "metadata": {},
     "output_type": "display_data"
    },
    {
     "name": "stdout",
     "output_type": "stream",
     "text": [
      "Epoch 00097\n",
      "\tlr: 1.000e-02\n",
      "\tcv loss: 2.264e-02\n",
      "\ttr loss: 1.559e-02 | (1.36 s | 0.02 m)\n"
     ]
    },
    {
     "data": {
      "application/vnd.jupyter.widget-view+json": {
       "model_id": "",
       "version_major": 2,
       "version_minor": 0
      },
      "text/plain": [
       "Validation: 0it [00:00, ?it/s]"
      ]
     },
     "metadata": {},
     "output_type": "display_data"
    },
    {
     "name": "stdout",
     "output_type": "stream",
     "text": [
      "Epoch 00098\n",
      "\tlr: 1.000e-02\n",
      "\tcv loss: 2.097e-02\n",
      "\ttr loss: 1.519e-02 | (1.39 s | 0.02 m)\n"
     ]
    },
    {
     "data": {
      "application/vnd.jupyter.widget-view+json": {
       "model_id": "",
       "version_major": 2,
       "version_minor": 0
      },
      "text/plain": [
       "Validation: 0it [00:00, ?it/s]"
      ]
     },
     "metadata": {},
     "output_type": "display_data"
    },
    {
     "name": "stdout",
     "output_type": "stream",
     "text": [
      "Epoch 00099\n",
      "\tlr: 1.000e-02\n",
      "\tcv loss: 2.175e-02\n",
      "\ttr loss: 1.484e-02 | (1.41 s | 0.02 m)\n"
     ]
    },
    {
     "data": {
      "application/vnd.jupyter.widget-view+json": {
       "model_id": "",
       "version_major": 2,
       "version_minor": 0
      },
      "text/plain": [
       "Validation: 0it [00:00, ?it/s]"
      ]
     },
     "metadata": {},
     "output_type": "display_data"
    },
    {
     "name": "stdout",
     "output_type": "stream",
     "text": [
      "Epoch 00100\n",
      "\tlr: 1.000e-02\n",
      "\tcv loss: 2.100e-02\n",
      "\ttr loss: 1.475e-02 | (1.38 s | 0.02 m)\n"
     ]
    },
    {
     "data": {
      "application/vnd.jupyter.widget-view+json": {
       "model_id": "",
       "version_major": 2,
       "version_minor": 0
      },
      "text/plain": [
       "Validation: 0it [00:00, ?it/s]"
      ]
     },
     "metadata": {},
     "output_type": "display_data"
    },
    {
     "name": "stdout",
     "output_type": "stream",
     "text": [
      "Epoch 00101\n",
      "\tlr: 1.000e-02\n",
      "\tcv loss: 2.301e-02\n",
      "\ttr loss: 1.478e-02 | (1.37 s | 0.02 m)\n"
     ]
    },
    {
     "data": {
      "application/vnd.jupyter.widget-view+json": {
       "model_id": "",
       "version_major": 2,
       "version_minor": 0
      },
      "text/plain": [
       "Validation: 0it [00:00, ?it/s]"
      ]
     },
     "metadata": {},
     "output_type": "display_data"
    },
    {
     "name": "stdout",
     "output_type": "stream",
     "text": [
      "Epoch 00102\n",
      "\tlr: 1.000e-02\n",
      "\tcv loss: 2.154e-02\n",
      "\ttr loss: 1.521e-02 | (1.39 s | 0.02 m)\n"
     ]
    },
    {
     "data": {
      "application/vnd.jupyter.widget-view+json": {
       "model_id": "",
       "version_major": 2,
       "version_minor": 0
      },
      "text/plain": [
       "Validation: 0it [00:00, ?it/s]"
      ]
     },
     "metadata": {},
     "output_type": "display_data"
    },
    {
     "name": "stdout",
     "output_type": "stream",
     "text": [
      "Epoch 00103\n",
      "\tlr: 1.000e-02\n",
      "\tcv loss: 2.046e-02\n",
      "\ttr loss: 1.484e-02 | (1.37 s | 0.02 m)\n"
     ]
    },
    {
     "data": {
      "application/vnd.jupyter.widget-view+json": {
       "model_id": "",
       "version_major": 2,
       "version_minor": 0
      },
      "text/plain": [
       "Validation: 0it [00:00, ?it/s]"
      ]
     },
     "metadata": {},
     "output_type": "display_data"
    },
    {
     "name": "stdout",
     "output_type": "stream",
     "text": [
      "Epoch 00104\n",
      "\tlr: 1.000e-02\n",
      "\tcv loss: 2.157e-02\n",
      "\ttr loss: 1.470e-02 | (1.36 s | 0.02 m)\n"
     ]
    },
    {
     "data": {
      "application/vnd.jupyter.widget-view+json": {
       "model_id": "",
       "version_major": 2,
       "version_minor": 0
      },
      "text/plain": [
       "Validation: 0it [00:00, ?it/s]"
      ]
     },
     "metadata": {},
     "output_type": "display_data"
    },
    {
     "name": "stdout",
     "output_type": "stream",
     "text": [
      "Epoch 00105\n",
      "\tlr: 1.000e-02\n",
      "\tcv loss: 2.174e-02\n",
      "\ttr loss: 1.517e-02 | (1.39 s | 0.02 m)\n"
     ]
    },
    {
     "data": {
      "application/vnd.jupyter.widget-view+json": {
       "model_id": "",
       "version_major": 2,
       "version_minor": 0
      },
      "text/plain": [
       "Validation: 0it [00:00, ?it/s]"
      ]
     },
     "metadata": {},
     "output_type": "display_data"
    },
    {
     "name": "stdout",
     "output_type": "stream",
     "text": [
      "Epoch 00106\n",
      "\tlr: 1.000e-02\n",
      "\tcv loss: 2.102e-02\n",
      "\ttr loss: 1.430e-02 | (1.36 s | 0.02 m)\n"
     ]
    },
    {
     "data": {
      "application/vnd.jupyter.widget-view+json": {
       "model_id": "",
       "version_major": 2,
       "version_minor": 0
      },
      "text/plain": [
       "Validation: 0it [00:00, ?it/s]"
      ]
     },
     "metadata": {},
     "output_type": "display_data"
    },
    {
     "name": "stdout",
     "output_type": "stream",
     "text": [
      "Epoch 00107\n",
      "\tlr: 1.000e-02\n",
      "\tcv loss: 2.212e-02\n",
      "\ttr loss: 1.406e-02 | (1.37 s | 0.02 m)\n"
     ]
    },
    {
     "data": {
      "application/vnd.jupyter.widget-view+json": {
       "model_id": "",
       "version_major": 2,
       "version_minor": 0
      },
      "text/plain": [
       "Validation: 0it [00:00, ?it/s]"
      ]
     },
     "metadata": {},
     "output_type": "display_data"
    },
    {
     "name": "stdout",
     "output_type": "stream",
     "text": [
      "Epoch 00108\n",
      "\tlr: 1.000e-02\n",
      "\tcv loss: 2.267e-02\n",
      "\ttr loss: 1.477e-02 | (1.40 s | 0.02 m)\n"
     ]
    },
    {
     "data": {
      "application/vnd.jupyter.widget-view+json": {
       "model_id": "",
       "version_major": 2,
       "version_minor": 0
      },
      "text/plain": [
       "Validation: 0it [00:00, ?it/s]"
      ]
     },
     "metadata": {},
     "output_type": "display_data"
    },
    {
     "name": "stdout",
     "output_type": "stream",
     "text": [
      "Epoch 00109\n",
      "\tlr: 1.000e-02\n",
      "\tcv loss: 2.125e-02\n",
      "\ttr loss: 1.422e-02 | (1.36 s | 0.02 m)\n"
     ]
    },
    {
     "data": {
      "application/vnd.jupyter.widget-view+json": {
       "model_id": "",
       "version_major": 2,
       "version_minor": 0
      },
      "text/plain": [
       "Validation: 0it [00:00, ?it/s]"
      ]
     },
     "metadata": {},
     "output_type": "display_data"
    },
    {
     "name": "stdout",
     "output_type": "stream",
     "text": [
      "Epoch 00110\n",
      "\tlr: 1.000e-02\n",
      "\tcv loss: 2.092e-02\n",
      "\ttr loss: 1.430e-02 | (1.37 s | 0.02 m)\n"
     ]
    },
    {
     "data": {
      "application/vnd.jupyter.widget-view+json": {
       "model_id": "",
       "version_major": 2,
       "version_minor": 0
      },
      "text/plain": [
       "Validation: 0it [00:00, ?it/s]"
      ]
     },
     "metadata": {},
     "output_type": "display_data"
    },
    {
     "name": "stdout",
     "output_type": "stream",
     "text": [
      "Epoch 00111\n",
      "\tlr: 1.000e-02\n",
      "\tcv loss: 2.110e-02\n",
      "\ttr loss: 1.431e-02 | (1.36 s | 0.02 m)\n"
     ]
    },
    {
     "data": {
      "application/vnd.jupyter.widget-view+json": {
       "model_id": "",
       "version_major": 2,
       "version_minor": 0
      },
      "text/plain": [
       "Validation: 0it [00:00, ?it/s]"
      ]
     },
     "metadata": {},
     "output_type": "display_data"
    },
    {
     "name": "stdout",
     "output_type": "stream",
     "text": [
      "Epoch 00112\n",
      "\tlr: 1.000e-02\n",
      "\tcv loss: 2.213e-02\n",
      "\ttr loss: 1.373e-02 | (1.39 s | 0.02 m)\n"
     ]
    },
    {
     "data": {
      "application/vnd.jupyter.widget-view+json": {
       "model_id": "",
       "version_major": 2,
       "version_minor": 0
      },
      "text/plain": [
       "Validation: 0it [00:00, ?it/s]"
      ]
     },
     "metadata": {},
     "output_type": "display_data"
    },
    {
     "name": "stdout",
     "output_type": "stream",
     "text": [
      "Epoch 00113\n",
      "\tlr: 1.000e-02\n",
      "\tcv loss: 2.130e-02\n",
      "\ttr loss: 1.389e-02 | (1.36 s | 0.02 m)\n"
     ]
    },
    {
     "data": {
      "application/vnd.jupyter.widget-view+json": {
       "model_id": "",
       "version_major": 2,
       "version_minor": 0
      },
      "text/plain": [
       "Validation: 0it [00:00, ?it/s]"
      ]
     },
     "metadata": {},
     "output_type": "display_data"
    },
    {
     "name": "stdout",
     "output_type": "stream",
     "text": [
      "Epoch 00114\n",
      "\tlr: 1.000e-02\n",
      "\tcv loss: 2.142e-02\n",
      "\ttr loss: 1.374e-02 | (1.36 s | 0.02 m)\n"
     ]
    },
    {
     "data": {
      "application/vnd.jupyter.widget-view+json": {
       "model_id": "",
       "version_major": 2,
       "version_minor": 0
      },
      "text/plain": [
       "Validation: 0it [00:00, ?it/s]"
      ]
     },
     "metadata": {},
     "output_type": "display_data"
    },
    {
     "name": "stdout",
     "output_type": "stream",
     "text": [
      "Epoch 00115\n",
      "\tlr: 1.000e-02\n",
      "\tcv loss: 2.079e-02\n",
      "\ttr loss: 1.383e-02 | (1.40 s | 0.02 m)\n"
     ]
    },
    {
     "data": {
      "application/vnd.jupyter.widget-view+json": {
       "model_id": "",
       "version_major": 2,
       "version_minor": 0
      },
      "text/plain": [
       "Validation: 0it [00:00, ?it/s]"
      ]
     },
     "metadata": {},
     "output_type": "display_data"
    },
    {
     "name": "stdout",
     "output_type": "stream",
     "text": [
      "Epoch 00116\n",
      "\tlr: 1.000e-02\n",
      "\tcv loss: 2.031e-02\n",
      "\ttr loss: 1.340e-02 | (1.37 s | 0.02 m)\n"
     ]
    },
    {
     "data": {
      "application/vnd.jupyter.widget-view+json": {
       "model_id": "",
       "version_major": 2,
       "version_minor": 0
      },
      "text/plain": [
       "Validation: 0it [00:00, ?it/s]"
      ]
     },
     "metadata": {},
     "output_type": "display_data"
    },
    {
     "name": "stdout",
     "output_type": "stream",
     "text": [
      "Epoch 00117\n",
      "\tlr: 1.000e-02\n",
      "\tcv loss: 2.119e-02\n",
      "\ttr loss: 1.350e-02 | (1.37 s | 0.02 m)\n"
     ]
    },
    {
     "data": {
      "application/vnd.jupyter.widget-view+json": {
       "model_id": "",
       "version_major": 2,
       "version_minor": 0
      },
      "text/plain": [
       "Validation: 0it [00:00, ?it/s]"
      ]
     },
     "metadata": {},
     "output_type": "display_data"
    },
    {
     "name": "stdout",
     "output_type": "stream",
     "text": [
      "Epoch 00118\n",
      "\tlr: 1.000e-02\n",
      "\tcv loss: 1.986e-02\n",
      "\ttr loss: 1.312e-02 | (1.40 s | 0.02 m)\n"
     ]
    },
    {
     "data": {
      "application/vnd.jupyter.widget-view+json": {
       "model_id": "",
       "version_major": 2,
       "version_minor": 0
      },
      "text/plain": [
       "Validation: 0it [00:00, ?it/s]"
      ]
     },
     "metadata": {},
     "output_type": "display_data"
    },
    {
     "name": "stdout",
     "output_type": "stream",
     "text": [
      "Epoch 00119\n",
      "\tlr: 1.000e-02\n",
      "\tcv loss: 2.230e-02\n",
      "\ttr loss: 1.342e-02 | (1.36 s | 0.02 m)\n"
     ]
    },
    {
     "data": {
      "application/vnd.jupyter.widget-view+json": {
       "model_id": "",
       "version_major": 2,
       "version_minor": 0
      },
      "text/plain": [
       "Validation: 0it [00:00, ?it/s]"
      ]
     },
     "metadata": {},
     "output_type": "display_data"
    },
    {
     "name": "stdout",
     "output_type": "stream",
     "text": [
      "Epoch 00120\n",
      "\tlr: 1.000e-02\n",
      "\tcv loss: 2.010e-02\n",
      "\ttr loss: 1.330e-02 | (1.37 s | 0.02 m)\n"
     ]
    },
    {
     "data": {
      "application/vnd.jupyter.widget-view+json": {
       "model_id": "",
       "version_major": 2,
       "version_minor": 0
      },
      "text/plain": [
       "Validation: 0it [00:00, ?it/s]"
      ]
     },
     "metadata": {},
     "output_type": "display_data"
    },
    {
     "name": "stdout",
     "output_type": "stream",
     "text": [
      "Epoch 00121\n",
      "\tlr: 1.000e-02\n",
      "\tcv loss: 2.036e-02\n",
      "\ttr loss: 1.406e-02 | (1.36 s | 0.02 m)\n"
     ]
    },
    {
     "data": {
      "application/vnd.jupyter.widget-view+json": {
       "model_id": "",
       "version_major": 2,
       "version_minor": 0
      },
      "text/plain": [
       "Validation: 0it [00:00, ?it/s]"
      ]
     },
     "metadata": {},
     "output_type": "display_data"
    },
    {
     "name": "stdout",
     "output_type": "stream",
     "text": [
      "Epoch 00122\n",
      "\tlr: 1.000e-02\n",
      "\tcv loss: 2.018e-02\n",
      "\ttr loss: 1.325e-02 | (1.40 s | 0.02 m)\n"
     ]
    },
    {
     "data": {
      "application/vnd.jupyter.widget-view+json": {
       "model_id": "",
       "version_major": 2,
       "version_minor": 0
      },
      "text/plain": [
       "Validation: 0it [00:00, ?it/s]"
      ]
     },
     "metadata": {},
     "output_type": "display_data"
    },
    {
     "name": "stdout",
     "output_type": "stream",
     "text": [
      "Epoch 00123\n",
      "\tlr: 1.000e-02\n",
      "\tcv loss: 2.013e-02\n",
      "\ttr loss: 1.285e-02 | (1.36 s | 0.02 m)\n"
     ]
    },
    {
     "data": {
      "application/vnd.jupyter.widget-view+json": {
       "model_id": "",
       "version_major": 2,
       "version_minor": 0
      },
      "text/plain": [
       "Validation: 0it [00:00, ?it/s]"
      ]
     },
     "metadata": {},
     "output_type": "display_data"
    },
    {
     "name": "stdout",
     "output_type": "stream",
     "text": [
      "Epoch 00124\n",
      "\tlr: 1.000e-02\n",
      "\tcv loss: 2.021e-02\n",
      "\ttr loss: 1.281e-02 | (1.36 s | 0.02 m)\n"
     ]
    },
    {
     "data": {
      "application/vnd.jupyter.widget-view+json": {
       "model_id": "",
       "version_major": 2,
       "version_minor": 0
      },
      "text/plain": [
       "Validation: 0it [00:00, ?it/s]"
      ]
     },
     "metadata": {},
     "output_type": "display_data"
    },
    {
     "name": "stdout",
     "output_type": "stream",
     "text": [
      "Epoch 00125\n",
      "\tlr: 1.000e-02\n",
      "\tcv loss: 2.332e-02\n",
      "\ttr loss: 1.450e-02 | (1.39 s | 0.02 m)\n"
     ]
    },
    {
     "data": {
      "application/vnd.jupyter.widget-view+json": {
       "model_id": "",
       "version_major": 2,
       "version_minor": 0
      },
      "text/plain": [
       "Validation: 0it [00:00, ?it/s]"
      ]
     },
     "metadata": {},
     "output_type": "display_data"
    },
    {
     "name": "stdout",
     "output_type": "stream",
     "text": [
      "Epoch 00126\n",
      "\tlr: 1.000e-02\n",
      "\tcv loss: 2.213e-02\n",
      "\ttr loss: 1.368e-02 | (1.36 s | 0.02 m)\n"
     ]
    },
    {
     "data": {
      "application/vnd.jupyter.widget-view+json": {
       "model_id": "",
       "version_major": 2,
       "version_minor": 0
      },
      "text/plain": [
       "Validation: 0it [00:00, ?it/s]"
      ]
     },
     "metadata": {},
     "output_type": "display_data"
    },
    {
     "name": "stdout",
     "output_type": "stream",
     "text": [
      "Epoch 00127\n",
      "\tlr: 1.000e-02\n",
      "\tcv loss: 1.982e-02\n",
      "\ttr loss: 1.298e-02 | (1.37 s | 0.02 m)\n"
     ]
    },
    {
     "data": {
      "application/vnd.jupyter.widget-view+json": {
       "model_id": "",
       "version_major": 2,
       "version_minor": 0
      },
      "text/plain": [
       "Validation: 0it [00:00, ?it/s]"
      ]
     },
     "metadata": {},
     "output_type": "display_data"
    },
    {
     "name": "stdout",
     "output_type": "stream",
     "text": [
      "Epoch 00128\n",
      "\tlr: 1.000e-02\n",
      "\tcv loss: 2.166e-02\n",
      "\ttr loss: 1.247e-02 | (1.39 s | 0.02 m)\n"
     ]
    },
    {
     "data": {
      "application/vnd.jupyter.widget-view+json": {
       "model_id": "",
       "version_major": 2,
       "version_minor": 0
      },
      "text/plain": [
       "Validation: 0it [00:00, ?it/s]"
      ]
     },
     "metadata": {},
     "output_type": "display_data"
    },
    {
     "name": "stdout",
     "output_type": "stream",
     "text": [
      "Epoch 00129\n",
      "\tlr: 1.000e-02\n",
      "\tcv loss: 2.040e-02\n",
      "\ttr loss: 1.238e-02 | (1.37 s | 0.02 m)\n"
     ]
    },
    {
     "data": {
      "application/vnd.jupyter.widget-view+json": {
       "model_id": "",
       "version_major": 2,
       "version_minor": 0
      },
      "text/plain": [
       "Validation: 0it [00:00, ?it/s]"
      ]
     },
     "metadata": {},
     "output_type": "display_data"
    },
    {
     "name": "stdout",
     "output_type": "stream",
     "text": [
      "Epoch 00130\n",
      "\tlr: 1.000e-02\n",
      "\tcv loss: 1.964e-02\n",
      "\ttr loss: 1.231e-02 | (1.37 s | 0.02 m)\n"
     ]
    },
    {
     "data": {
      "application/vnd.jupyter.widget-view+json": {
       "model_id": "",
       "version_major": 2,
       "version_minor": 0
      },
      "text/plain": [
       "Validation: 0it [00:00, ?it/s]"
      ]
     },
     "metadata": {},
     "output_type": "display_data"
    },
    {
     "name": "stdout",
     "output_type": "stream",
     "text": [
      "Epoch 00131\n",
      "\tlr: 1.000e-02\n",
      "\tcv loss: 1.996e-02\n",
      "\ttr loss: 1.224e-02 | (1.39 s | 0.02 m)\n"
     ]
    },
    {
     "data": {
      "application/vnd.jupyter.widget-view+json": {
       "model_id": "",
       "version_major": 2,
       "version_minor": 0
      },
      "text/plain": [
       "Validation: 0it [00:00, ?it/s]"
      ]
     },
     "metadata": {},
     "output_type": "display_data"
    },
    {
     "name": "stdout",
     "output_type": "stream",
     "text": [
      "Epoch 00132\n",
      "\tlr: 1.000e-02\n",
      "\tcv loss: 2.047e-02\n",
      "\ttr loss: 1.222e-02 | (1.37 s | 0.02 m)\n"
     ]
    },
    {
     "data": {
      "application/vnd.jupyter.widget-view+json": {
       "model_id": "",
       "version_major": 2,
       "version_minor": 0
      },
      "text/plain": [
       "Validation: 0it [00:00, ?it/s]"
      ]
     },
     "metadata": {},
     "output_type": "display_data"
    },
    {
     "name": "stdout",
     "output_type": "stream",
     "text": [
      "Epoch 00133\n",
      "\tlr: 1.000e-02\n",
      "\tcv loss: 2.073e-02\n",
      "\ttr loss: 1.249e-02 | (1.36 s | 0.02 m)\n"
     ]
    },
    {
     "data": {
      "application/vnd.jupyter.widget-view+json": {
       "model_id": "",
       "version_major": 2,
       "version_minor": 0
      },
      "text/plain": [
       "Validation: 0it [00:00, ?it/s]"
      ]
     },
     "metadata": {},
     "output_type": "display_data"
    },
    {
     "name": "stdout",
     "output_type": "stream",
     "text": [
      "Epoch 00134\n",
      "\tlr: 1.000e-02\n",
      "\tcv loss: 2.211e-02\n",
      "\ttr loss: 1.243e-02 | (1.36 s | 0.02 m)\n"
     ]
    },
    {
     "data": {
      "application/vnd.jupyter.widget-view+json": {
       "model_id": "",
       "version_major": 2,
       "version_minor": 0
      },
      "text/plain": [
       "Validation: 0it [00:00, ?it/s]"
      ]
     },
     "metadata": {},
     "output_type": "display_data"
    },
    {
     "name": "stdout",
     "output_type": "stream",
     "text": [
      "Epoch 00135\n",
      "\tlr: 1.000e-02\n",
      "\tcv loss: 2.110e-02\n",
      "\ttr loss: 1.227e-02 | (1.40 s | 0.02 m)\n"
     ]
    },
    {
     "data": {
      "application/vnd.jupyter.widget-view+json": {
       "model_id": "",
       "version_major": 2,
       "version_minor": 0
      },
      "text/plain": [
       "Validation: 0it [00:00, ?it/s]"
      ]
     },
     "metadata": {},
     "output_type": "display_data"
    },
    {
     "name": "stdout",
     "output_type": "stream",
     "text": [
      "Epoch 00136\n",
      "\tlr: 1.000e-02\n",
      "\tcv loss: 2.125e-02\n",
      "\ttr loss: 1.191e-02 | (1.37 s | 0.02 m)\n"
     ]
    },
    {
     "data": {
      "application/vnd.jupyter.widget-view+json": {
       "model_id": "",
       "version_major": 2,
       "version_minor": 0
      },
      "text/plain": [
       "Validation: 0it [00:00, ?it/s]"
      ]
     },
     "metadata": {},
     "output_type": "display_data"
    },
    {
     "name": "stdout",
     "output_type": "stream",
     "text": [
      "Epoch 00137\n",
      "\tlr: 1.000e-02\n",
      "\tcv loss: 2.084e-02\n",
      "\ttr loss: 1.230e-02 | (1.38 s | 0.02 m)\n"
     ]
    },
    {
     "data": {
      "application/vnd.jupyter.widget-view+json": {
       "model_id": "",
       "version_major": 2,
       "version_minor": 0
      },
      "text/plain": [
       "Validation: 0it [00:00, ?it/s]"
      ]
     },
     "metadata": {},
     "output_type": "display_data"
    },
    {
     "name": "stdout",
     "output_type": "stream",
     "text": [
      "Epoch 00138\n",
      "\tlr: 1.000e-02\n",
      "\tcv loss: 2.257e-02\n",
      "\ttr loss: 1.248e-02 | (1.39 s | 0.02 m)\n"
     ]
    },
    {
     "data": {
      "application/vnd.jupyter.widget-view+json": {
       "model_id": "",
       "version_major": 2,
       "version_minor": 0
      },
      "text/plain": [
       "Validation: 0it [00:00, ?it/s]"
      ]
     },
     "metadata": {},
     "output_type": "display_data"
    },
    {
     "name": "stdout",
     "output_type": "stream",
     "text": [
      "Epoch 00139\n",
      "\tlr: 1.000e-02\n",
      "\tcv loss: 2.092e-02\n",
      "\ttr loss: 1.292e-02 | (1.36 s | 0.02 m)\n"
     ]
    },
    {
     "data": {
      "application/vnd.jupyter.widget-view+json": {
       "model_id": "",
       "version_major": 2,
       "version_minor": 0
      },
      "text/plain": [
       "Validation: 0it [00:00, ?it/s]"
      ]
     },
     "metadata": {},
     "output_type": "display_data"
    },
    {
     "name": "stdout",
     "output_type": "stream",
     "text": [
      "Epoch 00140\n",
      "\tlr: 1.000e-02\n",
      "\tcv loss: 2.110e-02\n",
      "\ttr loss: 1.215e-02 | (1.36 s | 0.02 m)\n"
     ]
    },
    {
     "data": {
      "application/vnd.jupyter.widget-view+json": {
       "model_id": "",
       "version_major": 2,
       "version_minor": 0
      },
      "text/plain": [
       "Validation: 0it [00:00, ?it/s]"
      ]
     },
     "metadata": {},
     "output_type": "display_data"
    },
    {
     "name": "stdout",
     "output_type": "stream",
     "text": [
      "Epoch 00141\n",
      "\tlr: 1.000e-02\n",
      "\tcv loss: 2.024e-02\n",
      "\ttr loss: 1.199e-02 | (1.42 s | 0.02 m)\n"
     ]
    },
    {
     "data": {
      "application/vnd.jupyter.widget-view+json": {
       "model_id": "",
       "version_major": 2,
       "version_minor": 0
      },
      "text/plain": [
       "Validation: 0it [00:00, ?it/s]"
      ]
     },
     "metadata": {},
     "output_type": "display_data"
    },
    {
     "name": "stdout",
     "output_type": "stream",
     "text": [
      "Epoch 00142\n",
      "\tlr: 1.000e-02\n",
      "\tcv loss: 2.278e-02\n",
      "\ttr loss: 1.176e-02 | (1.37 s | 0.02 m)\n"
     ]
    },
    {
     "data": {
      "application/vnd.jupyter.widget-view+json": {
       "model_id": "",
       "version_major": 2,
       "version_minor": 0
      },
      "text/plain": [
       "Validation: 0it [00:00, ?it/s]"
      ]
     },
     "metadata": {},
     "output_type": "display_data"
    },
    {
     "name": "stdout",
     "output_type": "stream",
     "text": [
      "Epoch 00143\n",
      "\tlr: 1.000e-02\n",
      "\tcv loss: 2.151e-02\n",
      "\ttr loss: 1.188e-02 | (1.42 s | 0.02 m)\n"
     ]
    },
    {
     "data": {
      "application/vnd.jupyter.widget-view+json": {
       "model_id": "",
       "version_major": 2,
       "version_minor": 0
      },
      "text/plain": [
       "Validation: 0it [00:00, ?it/s]"
      ]
     },
     "metadata": {},
     "output_type": "display_data"
    },
    {
     "name": "stdout",
     "output_type": "stream",
     "text": [
      "Epoch 00144\n",
      "\tlr: 1.000e-02\n",
      "\tcv loss: 1.973e-02\n",
      "\ttr loss: 1.163e-02 | (1.40 s | 0.02 m)\n"
     ]
    },
    {
     "data": {
      "application/vnd.jupyter.widget-view+json": {
       "model_id": "",
       "version_major": 2,
       "version_minor": 0
      },
      "text/plain": [
       "Validation: 0it [00:00, ?it/s]"
      ]
     },
     "metadata": {},
     "output_type": "display_data"
    },
    {
     "name": "stdout",
     "output_type": "stream",
     "text": [
      "Epoch 00145\n",
      "\tlr: 1.000e-02\n",
      "\tcv loss: 2.058e-02\n",
      "\ttr loss: 1.141e-02 | (1.39 s | 0.02 m)\n"
     ]
    },
    {
     "data": {
      "application/vnd.jupyter.widget-view+json": {
       "model_id": "",
       "version_major": 2,
       "version_minor": 0
      },
      "text/plain": [
       "Validation: 0it [00:00, ?it/s]"
      ]
     },
     "metadata": {},
     "output_type": "display_data"
    },
    {
     "name": "stdout",
     "output_type": "stream",
     "text": [
      "Epoch 00146\n",
      "\tlr: 1.000e-02\n",
      "\tcv loss: 2.018e-02\n",
      "\ttr loss: 1.136e-02 | (1.36 s | 0.02 m)\n"
     ]
    },
    {
     "data": {
      "application/vnd.jupyter.widget-view+json": {
       "model_id": "",
       "version_major": 2,
       "version_minor": 0
      },
      "text/plain": [
       "Validation: 0it [00:00, ?it/s]"
      ]
     },
     "metadata": {},
     "output_type": "display_data"
    },
    {
     "name": "stdout",
     "output_type": "stream",
     "text": [
      "Epoch 00147\n",
      "\tlr: 1.000e-02\n",
      "\tcv loss: 2.427e-02\n",
      "\ttr loss: 1.168e-02 | (1.37 s | 0.02 m)\n"
     ]
    },
    {
     "data": {
      "application/vnd.jupyter.widget-view+json": {
       "model_id": "",
       "version_major": 2,
       "version_minor": 0
      },
      "text/plain": [
       "Validation: 0it [00:00, ?it/s]"
      ]
     },
     "metadata": {},
     "output_type": "display_data"
    },
    {
     "name": "stdout",
     "output_type": "stream",
     "text": [
      "Epoch 00148\n",
      "\tlr: 1.000e-02\n",
      "\tcv loss: 1.999e-02\n",
      "\ttr loss: 1.202e-02 | (1.39 s | 0.02 m)\n"
     ]
    },
    {
     "data": {
      "application/vnd.jupyter.widget-view+json": {
       "model_id": "",
       "version_major": 2,
       "version_minor": 0
      },
      "text/plain": [
       "Validation: 0it [00:00, ?it/s]"
      ]
     },
     "metadata": {},
     "output_type": "display_data"
    },
    {
     "name": "stdout",
     "output_type": "stream",
     "text": [
      "Epoch 00149\n",
      "\tlr: 1.000e-02\n",
      "\tcv loss: 2.104e-02\n",
      "\ttr loss: 1.146e-02 | (1.37 s | 0.02 m)\n"
     ]
    },
    {
     "data": {
      "application/vnd.jupyter.widget-view+json": {
       "model_id": "",
       "version_major": 2,
       "version_minor": 0
      },
      "text/plain": [
       "Validation: 0it [00:00, ?it/s]"
      ]
     },
     "metadata": {},
     "output_type": "display_data"
    },
    {
     "name": "stdout",
     "output_type": "stream",
     "text": [
      "Epoch 00150\n",
      "\tlr: 1.000e-02\n",
      "\tcv loss: 2.162e-02\n",
      "\ttr loss: 1.150e-02 | (1.37 s | 0.02 m)\n"
     ]
    },
    {
     "data": {
      "application/vnd.jupyter.widget-view+json": {
       "model_id": "",
       "version_major": 2,
       "version_minor": 0
      },
      "text/plain": [
       "Validation: 0it [00:00, ?it/s]"
      ]
     },
     "metadata": {},
     "output_type": "display_data"
    },
    {
     "name": "stdout",
     "output_type": "stream",
     "text": [
      "Epoch 00151\n",
      "\tlr: 1.000e-02\n",
      "\tcv loss: 1.996e-02\n",
      "\ttr loss: 1.093e-02 | (1.42 s | 0.02 m)\n"
     ]
    },
    {
     "data": {
      "application/vnd.jupyter.widget-view+json": {
       "model_id": "",
       "version_major": 2,
       "version_minor": 0
      },
      "text/plain": [
       "Validation: 0it [00:00, ?it/s]"
      ]
     },
     "metadata": {},
     "output_type": "display_data"
    },
    {
     "name": "stdout",
     "output_type": "stream",
     "text": [
      "Epoch 00152\n",
      "\tlr: 1.000e-02\n",
      "\tcv loss: 2.199e-02\n",
      "\ttr loss: 1.231e-02 | (1.37 s | 0.02 m)\n"
     ]
    },
    {
     "data": {
      "application/vnd.jupyter.widget-view+json": {
       "model_id": "",
       "version_major": 2,
       "version_minor": 0
      },
      "text/plain": [
       "Validation: 0it [00:00, ?it/s]"
      ]
     },
     "metadata": {},
     "output_type": "display_data"
    },
    {
     "name": "stdout",
     "output_type": "stream",
     "text": [
      "Epoch 00153\n",
      "\tlr: 1.000e-02\n",
      "\tcv loss: 2.169e-02\n",
      "\ttr loss: 1.154e-02 | (1.36 s | 0.02 m)\n"
     ]
    },
    {
     "data": {
      "application/vnd.jupyter.widget-view+json": {
       "model_id": "",
       "version_major": 2,
       "version_minor": 0
      },
      "text/plain": [
       "Validation: 0it [00:00, ?it/s]"
      ]
     },
     "metadata": {},
     "output_type": "display_data"
    },
    {
     "name": "stdout",
     "output_type": "stream",
     "text": [
      "Epoch 00154\n",
      "\tlr: 1.000e-02\n",
      "\tcv loss: 2.044e-02\n",
      "\ttr loss: 1.151e-02 | (1.37 s | 0.02 m)\n"
     ]
    },
    {
     "data": {
      "application/vnd.jupyter.widget-view+json": {
       "model_id": "",
       "version_major": 2,
       "version_minor": 0
      },
      "text/plain": [
       "Validation: 0it [00:00, ?it/s]"
      ]
     },
     "metadata": {},
     "output_type": "display_data"
    },
    {
     "name": "stdout",
     "output_type": "stream",
     "text": [
      "Epoch 00155\n",
      "\tlr: 1.000e-02\n",
      "\tcv loss: 2.206e-02\n",
      "\ttr loss: 1.112e-02 | (1.41 s | 0.02 m)\n"
     ]
    },
    {
     "data": {
      "application/vnd.jupyter.widget-view+json": {
       "model_id": "",
       "version_major": 2,
       "version_minor": 0
      },
      "text/plain": [
       "Validation: 0it [00:00, ?it/s]"
      ]
     },
     "metadata": {},
     "output_type": "display_data"
    },
    {
     "name": "stdout",
     "output_type": "stream",
     "text": [
      "Epoch 00156\n",
      "\tlr: 1.000e-02\n",
      "\tcv loss: 2.097e-02\n",
      "\ttr loss: 1.104e-02 | (1.41 s | 0.02 m)\n"
     ]
    },
    {
     "data": {
      "application/vnd.jupyter.widget-view+json": {
       "model_id": "",
       "version_major": 2,
       "version_minor": 0
      },
      "text/plain": [
       "Validation: 0it [00:00, ?it/s]"
      ]
     },
     "metadata": {},
     "output_type": "display_data"
    },
    {
     "name": "stdout",
     "output_type": "stream",
     "text": [
      "Epoch 00157\n",
      "\tlr: 1.000e-02\n",
      "\tcv loss: 2.184e-02\n",
      "\ttr loss: 1.093e-02 | (1.38 s | 0.02 m)\n"
     ]
    },
    {
     "data": {
      "application/vnd.jupyter.widget-view+json": {
       "model_id": "",
       "version_major": 2,
       "version_minor": 0
      },
      "text/plain": [
       "Validation: 0it [00:00, ?it/s]"
      ]
     },
     "metadata": {},
     "output_type": "display_data"
    },
    {
     "name": "stdout",
     "output_type": "stream",
     "text": [
      "Epoch 00158\n",
      "\tlr: 1.000e-02\n",
      "\tcv loss: 2.168e-02\n",
      "\ttr loss: 1.141e-02 | (1.29 s | 0.02 m)\n"
     ]
    },
    {
     "data": {
      "application/vnd.jupyter.widget-view+json": {
       "model_id": "",
       "version_major": 2,
       "version_minor": 0
      },
      "text/plain": [
       "Validation: 0it [00:00, ?it/s]"
      ]
     },
     "metadata": {},
     "output_type": "display_data"
    },
    {
     "name": "stdout",
     "output_type": "stream",
     "text": [
      "Epoch 00159\n",
      "\tlr: 1.000e-02\n",
      "\tcv loss: 2.345e-02\n",
      "\ttr loss: 1.166e-02 | (1.34 s | 0.02 m)\n"
     ]
    },
    {
     "data": {
      "application/vnd.jupyter.widget-view+json": {
       "model_id": "",
       "version_major": 2,
       "version_minor": 0
      },
      "text/plain": [
       "Validation: 0it [00:00, ?it/s]"
      ]
     },
     "metadata": {},
     "output_type": "display_data"
    },
    {
     "name": "stdout",
     "output_type": "stream",
     "text": [
      "Epoch 00160\n",
      "\tlr: 1.000e-02\n",
      "\tcv loss: 2.119e-02\n",
      "\ttr loss: 1.155e-02 | (1.38 s | 0.02 m)\n"
     ]
    },
    {
     "data": {
      "application/vnd.jupyter.widget-view+json": {
       "model_id": "",
       "version_major": 2,
       "version_minor": 0
      },
      "text/plain": [
       "Validation: 0it [00:00, ?it/s]"
      ]
     },
     "metadata": {},
     "output_type": "display_data"
    },
    {
     "name": "stdout",
     "output_type": "stream",
     "text": [
      "Epoch 00161\n",
      "\tlr: 1.000e-02\n",
      "\tcv loss: 2.185e-02\n",
      "\ttr loss: 1.099e-02 | (1.27 s | 0.02 m)\n"
     ]
    },
    {
     "data": {
      "application/vnd.jupyter.widget-view+json": {
       "model_id": "",
       "version_major": 2,
       "version_minor": 0
      },
      "text/plain": [
       "Validation: 0it [00:00, ?it/s]"
      ]
     },
     "metadata": {},
     "output_type": "display_data"
    },
    {
     "name": "stdout",
     "output_type": "stream",
     "text": [
      "Epoch 00162\n",
      "\tlr: 1.000e-02\n",
      "\tcv loss: 2.139e-02\n",
      "\ttr loss: 1.120e-02 | (1.30 s | 0.02 m)\n"
     ]
    },
    {
     "data": {
      "application/vnd.jupyter.widget-view+json": {
       "model_id": "",
       "version_major": 2,
       "version_minor": 0
      },
      "text/plain": [
       "Validation: 0it [00:00, ?it/s]"
      ]
     },
     "metadata": {},
     "output_type": "display_data"
    },
    {
     "name": "stdout",
     "output_type": "stream",
     "text": [
      "Epoch 00163\n",
      "\tlr: 1.000e-02\n",
      "\tcv loss: 1.991e-02\n",
      "\ttr loss: 1.091e-02 | (1.33 s | 0.02 m)\n"
     ]
    },
    {
     "data": {
      "application/vnd.jupyter.widget-view+json": {
       "model_id": "",
       "version_major": 2,
       "version_minor": 0
      },
      "text/plain": [
       "Validation: 0it [00:00, ?it/s]"
      ]
     },
     "metadata": {},
     "output_type": "display_data"
    },
    {
     "name": "stdout",
     "output_type": "stream",
     "text": [
      "Epoch 00164\n",
      "\tlr: 1.000e-02\n",
      "\tcv loss: 2.403e-02\n",
      "\ttr loss: 1.157e-02 | (1.28 s | 0.02 m)\n"
     ]
    },
    {
     "data": {
      "application/vnd.jupyter.widget-view+json": {
       "model_id": "",
       "version_major": 2,
       "version_minor": 0
      },
      "text/plain": [
       "Validation: 0it [00:00, ?it/s]"
      ]
     },
     "metadata": {},
     "output_type": "display_data"
    },
    {
     "name": "stdout",
     "output_type": "stream",
     "text": [
      "Epoch 00165\n",
      "\tlr: 1.000e-02\n",
      "\tcv loss: 2.106e-02\n",
      "\ttr loss: 1.133e-02 | (1.41 s | 0.02 m)\n"
     ]
    },
    {
     "data": {
      "application/vnd.jupyter.widget-view+json": {
       "model_id": "",
       "version_major": 2,
       "version_minor": 0
      },
      "text/plain": [
       "Validation: 0it [00:00, ?it/s]"
      ]
     },
     "metadata": {},
     "output_type": "display_data"
    },
    {
     "name": "stdout",
     "output_type": "stream",
     "text": [
      "Epoch 00166\n",
      "\tlr: 1.000e-02\n",
      "\tcv loss: 1.904e-02\n",
      "\ttr loss: 1.102e-02 | (1.36 s | 0.02 m)\n"
     ]
    },
    {
     "data": {
      "application/vnd.jupyter.widget-view+json": {
       "model_id": "",
       "version_major": 2,
       "version_minor": 0
      },
      "text/plain": [
       "Validation: 0it [00:00, ?it/s]"
      ]
     },
     "metadata": {},
     "output_type": "display_data"
    },
    {
     "name": "stdout",
     "output_type": "stream",
     "text": [
      "Epoch 00167\n",
      "\tlr: 1.000e-02\n",
      "\tcv loss: 2.170e-02\n",
      "\ttr loss: 1.125e-02 | (1.36 s | 0.02 m)\n"
     ]
    },
    {
     "data": {
      "application/vnd.jupyter.widget-view+json": {
       "model_id": "",
       "version_major": 2,
       "version_minor": 0
      },
      "text/plain": [
       "Validation: 0it [00:00, ?it/s]"
      ]
     },
     "metadata": {},
     "output_type": "display_data"
    },
    {
     "name": "stdout",
     "output_type": "stream",
     "text": [
      "Epoch 00168\n",
      "\tlr: 1.000e-02\n",
      "\tcv loss: 2.117e-02\n",
      "\ttr loss: 1.090e-02 | (1.33 s | 0.02 m)\n"
     ]
    },
    {
     "data": {
      "application/vnd.jupyter.widget-view+json": {
       "model_id": "",
       "version_major": 2,
       "version_minor": 0
      },
      "text/plain": [
       "Validation: 0it [00:00, ?it/s]"
      ]
     },
     "metadata": {},
     "output_type": "display_data"
    },
    {
     "name": "stdout",
     "output_type": "stream",
     "text": [
      "Epoch 00169\n",
      "\tlr: 1.000e-02\n",
      "\tcv loss: 2.045e-02\n",
      "\ttr loss: 1.062e-02 | (1.26 s | 0.02 m)\n"
     ]
    },
    {
     "data": {
      "application/vnd.jupyter.widget-view+json": {
       "model_id": "",
       "version_major": 2,
       "version_minor": 0
      },
      "text/plain": [
       "Validation: 0it [00:00, ?it/s]"
      ]
     },
     "metadata": {},
     "output_type": "display_data"
    },
    {
     "name": "stdout",
     "output_type": "stream",
     "text": [
      "Epoch 00170\n",
      "\tlr: 1.000e-02\n",
      "\tcv loss: 2.124e-02\n",
      "\ttr loss: 1.080e-02 | (1.26 s | 0.02 m)\n"
     ]
    },
    {
     "data": {
      "application/vnd.jupyter.widget-view+json": {
       "model_id": "",
       "version_major": 2,
       "version_minor": 0
      },
      "text/plain": [
       "Validation: 0it [00:00, ?it/s]"
      ]
     },
     "metadata": {},
     "output_type": "display_data"
    },
    {
     "name": "stdout",
     "output_type": "stream",
     "text": [
      "Epoch 00171\n",
      "\tlr: 1.000e-02\n",
      "\tcv loss: 2.216e-02\n",
      "\ttr loss: 1.046e-02 | (1.33 s | 0.02 m)\n"
     ]
    },
    {
     "data": {
      "application/vnd.jupyter.widget-view+json": {
       "model_id": "",
       "version_major": 2,
       "version_minor": 0
      },
      "text/plain": [
       "Validation: 0it [00:00, ?it/s]"
      ]
     },
     "metadata": {},
     "output_type": "display_data"
    },
    {
     "name": "stdout",
     "output_type": "stream",
     "text": [
      "Epoch 00172\n",
      "\tlr: 1.000e-02\n",
      "\tcv loss: 2.271e-02\n",
      "\ttr loss: 1.081e-02 | (1.31 s | 0.02 m)\n"
     ]
    },
    {
     "data": {
      "application/vnd.jupyter.widget-view+json": {
       "model_id": "",
       "version_major": 2,
       "version_minor": 0
      },
      "text/plain": [
       "Validation: 0it [00:00, ?it/s]"
      ]
     },
     "metadata": {},
     "output_type": "display_data"
    },
    {
     "name": "stdout",
     "output_type": "stream",
     "text": [
      "Epoch 00173\n",
      "\tlr: 1.000e-02\n",
      "\tcv loss: 2.444e-02\n",
      "\ttr loss: 1.109e-02 | (1.34 s | 0.02 m)\n"
     ]
    },
    {
     "data": {
      "application/vnd.jupyter.widget-view+json": {
       "model_id": "",
       "version_major": 2,
       "version_minor": 0
      },
      "text/plain": [
       "Validation: 0it [00:00, ?it/s]"
      ]
     },
     "metadata": {},
     "output_type": "display_data"
    },
    {
     "name": "stdout",
     "output_type": "stream",
     "text": [
      "Epoch 00174\n",
      "\tlr: 1.000e-02\n",
      "\tcv loss: 2.063e-02\n",
      "\ttr loss: 1.067e-02 | (1.30 s | 0.02 m)\n"
     ]
    },
    {
     "data": {
      "application/vnd.jupyter.widget-view+json": {
       "model_id": "",
       "version_major": 2,
       "version_minor": 0
      },
      "text/plain": [
       "Validation: 0it [00:00, ?it/s]"
      ]
     },
     "metadata": {},
     "output_type": "display_data"
    },
    {
     "name": "stdout",
     "output_type": "stream",
     "text": [
      "Epoch 00175\n",
      "\tlr: 1.000e-02\n",
      "\tcv loss: 2.065e-02\n",
      "\ttr loss: 1.039e-02 | (1.24 s | 0.02 m)\n"
     ]
    },
    {
     "data": {
      "application/vnd.jupyter.widget-view+json": {
       "model_id": "",
       "version_major": 2,
       "version_minor": 0
      },
      "text/plain": [
       "Validation: 0it [00:00, ?it/s]"
      ]
     },
     "metadata": {},
     "output_type": "display_data"
    },
    {
     "name": "stdout",
     "output_type": "stream",
     "text": [
      "Epoch 00176\n",
      "\tlr: 1.000e-02\n",
      "\tcv loss: 2.018e-02\n",
      "\ttr loss: 1.062e-02 | (1.34 s | 0.02 m)\n"
     ]
    },
    {
     "data": {
      "application/vnd.jupyter.widget-view+json": {
       "model_id": "",
       "version_major": 2,
       "version_minor": 0
      },
      "text/plain": [
       "Validation: 0it [00:00, ?it/s]"
      ]
     },
     "metadata": {},
     "output_type": "display_data"
    },
    {
     "name": "stdout",
     "output_type": "stream",
     "text": [
      "Epoch 00177\n",
      "\tlr: 1.000e-02\n",
      "\tcv loss: 1.969e-02\n",
      "\ttr loss: 1.085e-02 | (1.44 s | 0.02 m)\n"
     ]
    },
    {
     "data": {
      "application/vnd.jupyter.widget-view+json": {
       "model_id": "",
       "version_major": 2,
       "version_minor": 0
      },
      "text/plain": [
       "Validation: 0it [00:00, ?it/s]"
      ]
     },
     "metadata": {},
     "output_type": "display_data"
    },
    {
     "name": "stdout",
     "output_type": "stream",
     "text": [
      "Epoch 00178\n",
      "\tlr: 1.000e-02\n",
      "\tcv loss: 2.082e-02\n",
      "\ttr loss: 1.030e-02 | (1.47 s | 0.02 m)\n"
     ]
    },
    {
     "data": {
      "application/vnd.jupyter.widget-view+json": {
       "model_id": "",
       "version_major": 2,
       "version_minor": 0
      },
      "text/plain": [
       "Validation: 0it [00:00, ?it/s]"
      ]
     },
     "metadata": {},
     "output_type": "display_data"
    },
    {
     "name": "stdout",
     "output_type": "stream",
     "text": [
      "Epoch 00179\n",
      "\tlr: 1.000e-02\n",
      "\tcv loss: 2.008e-02\n",
      "\ttr loss: 1.035e-02 | (1.33 s | 0.02 m)\n"
     ]
    },
    {
     "data": {
      "application/vnd.jupyter.widget-view+json": {
       "model_id": "",
       "version_major": 2,
       "version_minor": 0
      },
      "text/plain": [
       "Validation: 0it [00:00, ?it/s]"
      ]
     },
     "metadata": {},
     "output_type": "display_data"
    },
    {
     "name": "stdout",
     "output_type": "stream",
     "text": [
      "Epoch 00180\n",
      "\tlr: 1.000e-02\n",
      "\tcv loss: 2.156e-02\n",
      "\ttr loss: 1.033e-02 | (1.34 s | 0.02 m)\n"
     ]
    },
    {
     "data": {
      "application/vnd.jupyter.widget-view+json": {
       "model_id": "",
       "version_major": 2,
       "version_minor": 0
      },
      "text/plain": [
       "Validation: 0it [00:00, ?it/s]"
      ]
     },
     "metadata": {},
     "output_type": "display_data"
    },
    {
     "name": "stdout",
     "output_type": "stream",
     "text": [
      "Epoch 00181\n",
      "\tlr: 1.000e-02\n",
      "\tcv loss: 2.033e-02\n",
      "\ttr loss: 1.014e-02 | (1.31 s | 0.02 m)\n"
     ]
    },
    {
     "data": {
      "application/vnd.jupyter.widget-view+json": {
       "model_id": "",
       "version_major": 2,
       "version_minor": 0
      },
      "text/plain": [
       "Validation: 0it [00:00, ?it/s]"
      ]
     },
     "metadata": {},
     "output_type": "display_data"
    },
    {
     "name": "stdout",
     "output_type": "stream",
     "text": [
      "Epoch 00182\n",
      "\tlr: 1.000e-02\n",
      "\tcv loss: 2.220e-02\n",
      "\ttr loss: 1.013e-02 | (1.38 s | 0.02 m)\n"
     ]
    },
    {
     "data": {
      "application/vnd.jupyter.widget-view+json": {
       "model_id": "",
       "version_major": 2,
       "version_minor": 0
      },
      "text/plain": [
       "Validation: 0it [00:00, ?it/s]"
      ]
     },
     "metadata": {},
     "output_type": "display_data"
    },
    {
     "name": "stdout",
     "output_type": "stream",
     "text": [
      "Epoch 00183\n",
      "\tlr: 1.000e-02\n",
      "\tcv loss: 2.148e-02\n",
      "\ttr loss: 1.038e-02 | (1.40 s | 0.02 m)\n"
     ]
    },
    {
     "data": {
      "application/vnd.jupyter.widget-view+json": {
       "model_id": "",
       "version_major": 2,
       "version_minor": 0
      },
      "text/plain": [
       "Validation: 0it [00:00, ?it/s]"
      ]
     },
     "metadata": {},
     "output_type": "display_data"
    },
    {
     "name": "stdout",
     "output_type": "stream",
     "text": [
      "Epoch 00184\n",
      "\tlr: 1.000e-02\n",
      "\tcv loss: 2.449e-02\n",
      "\ttr loss: 1.016e-02 | (1.25 s | 0.02 m)\n"
     ]
    },
    {
     "data": {
      "application/vnd.jupyter.widget-view+json": {
       "model_id": "",
       "version_major": 2,
       "version_minor": 0
      },
      "text/plain": [
       "Validation: 0it [00:00, ?it/s]"
      ]
     },
     "metadata": {},
     "output_type": "display_data"
    },
    {
     "name": "stdout",
     "output_type": "stream",
     "text": [
      "Epoch 00185\n",
      "\tlr: 1.000e-02\n",
      "\tcv loss: 2.243e-02\n",
      "\ttr loss: 1.032e-02 | (1.24 s | 0.02 m)\n"
     ]
    },
    {
     "data": {
      "application/vnd.jupyter.widget-view+json": {
       "model_id": "",
       "version_major": 2,
       "version_minor": 0
      },
      "text/plain": [
       "Validation: 0it [00:00, ?it/s]"
      ]
     },
     "metadata": {},
     "output_type": "display_data"
    },
    {
     "name": "stdout",
     "output_type": "stream",
     "text": [
      "Epoch 00186\n",
      "\tlr: 1.000e-02\n",
      "\tcv loss: 1.989e-02\n",
      "\ttr loss: 9.859e-03 | (1.33 s | 0.02 m)\n"
     ]
    },
    {
     "data": {
      "application/vnd.jupyter.widget-view+json": {
       "model_id": "",
       "version_major": 2,
       "version_minor": 0
      },
      "text/plain": [
       "Validation: 0it [00:00, ?it/s]"
      ]
     },
     "metadata": {},
     "output_type": "display_data"
    },
    {
     "name": "stdout",
     "output_type": "stream",
     "text": [
      "Epoch 00187\n",
      "\tlr: 1.000e-02\n",
      "\tcv loss: 2.200e-02\n",
      "\ttr loss: 1.013e-02 | (1.27 s | 0.02 m)\n"
     ]
    },
    {
     "data": {
      "application/vnd.jupyter.widget-view+json": {
       "model_id": "",
       "version_major": 2,
       "version_minor": 0
      },
      "text/plain": [
       "Validation: 0it [00:00, ?it/s]"
      ]
     },
     "metadata": {},
     "output_type": "display_data"
    },
    {
     "name": "stdout",
     "output_type": "stream",
     "text": [
      "Epoch 00188\n",
      "\tlr: 1.000e-02\n",
      "\tcv loss: 2.140e-02\n",
      "\ttr loss: 9.800e-03 | (1.32 s | 0.02 m)\n"
     ]
    },
    {
     "data": {
      "application/vnd.jupyter.widget-view+json": {
       "model_id": "",
       "version_major": 2,
       "version_minor": 0
      },
      "text/plain": [
       "Validation: 0it [00:00, ?it/s]"
      ]
     },
     "metadata": {},
     "output_type": "display_data"
    },
    {
     "name": "stdout",
     "output_type": "stream",
     "text": [
      "Epoch 00189\n",
      "\tlr: 1.000e-02\n",
      "\tcv loss: 1.987e-02\n",
      "\ttr loss: 9.807e-03 | (1.38 s | 0.02 m)\n"
     ]
    },
    {
     "data": {
      "application/vnd.jupyter.widget-view+json": {
       "model_id": "",
       "version_major": 2,
       "version_minor": 0
      },
      "text/plain": [
       "Validation: 0it [00:00, ?it/s]"
      ]
     },
     "metadata": {},
     "output_type": "display_data"
    },
    {
     "name": "stdout",
     "output_type": "stream",
     "text": [
      "Epoch 00190\n",
      "\tlr: 1.000e-02\n",
      "\tcv loss: 1.940e-02\n",
      "\ttr loss: 9.946e-03 | (1.26 s | 0.02 m)\n"
     ]
    },
    {
     "data": {
      "application/vnd.jupyter.widget-view+json": {
       "model_id": "",
       "version_major": 2,
       "version_minor": 0
      },
      "text/plain": [
       "Validation: 0it [00:00, ?it/s]"
      ]
     },
     "metadata": {},
     "output_type": "display_data"
    },
    {
     "name": "stdout",
     "output_type": "stream",
     "text": [
      "Epoch 00191\n",
      "\tlr: 1.000e-02\n",
      "\tcv loss: 2.292e-02\n",
      "\ttr loss: 9.851e-03 | (1.47 s | 0.02 m)\n"
     ]
    },
    {
     "data": {
      "application/vnd.jupyter.widget-view+json": {
       "model_id": "",
       "version_major": 2,
       "version_minor": 0
      },
      "text/plain": [
       "Validation: 0it [00:00, ?it/s]"
      ]
     },
     "metadata": {},
     "output_type": "display_data"
    },
    {
     "name": "stdout",
     "output_type": "stream",
     "text": [
      "Epoch 00192\n",
      "\tlr: 1.000e-02\n",
      "\tcv loss: 2.044e-02\n",
      "\ttr loss: 9.762e-03 | (1.30 s | 0.02 m)\n"
     ]
    },
    {
     "data": {
      "application/vnd.jupyter.widget-view+json": {
       "model_id": "",
       "version_major": 2,
       "version_minor": 0
      },
      "text/plain": [
       "Validation: 0it [00:00, ?it/s]"
      ]
     },
     "metadata": {},
     "output_type": "display_data"
    },
    {
     "name": "stdout",
     "output_type": "stream",
     "text": [
      "Epoch 00193\n",
      "\tlr: 1.000e-02\n",
      "\tcv loss: 2.125e-02\n",
      "\ttr loss: 9.831e-03 | (1.33 s | 0.02 m)\n"
     ]
    },
    {
     "data": {
      "application/vnd.jupyter.widget-view+json": {
       "model_id": "",
       "version_major": 2,
       "version_minor": 0
      },
      "text/plain": [
       "Validation: 0it [00:00, ?it/s]"
      ]
     },
     "metadata": {},
     "output_type": "display_data"
    },
    {
     "name": "stdout",
     "output_type": "stream",
     "text": [
      "Epoch 00194\n",
      "\tlr: 1.000e-02\n",
      "\tcv loss: 2.116e-02\n",
      "\ttr loss: 9.846e-03 | (1.27 s | 0.02 m)\n"
     ]
    },
    {
     "data": {
      "application/vnd.jupyter.widget-view+json": {
       "model_id": "",
       "version_major": 2,
       "version_minor": 0
      },
      "text/plain": [
       "Validation: 0it [00:00, ?it/s]"
      ]
     },
     "metadata": {},
     "output_type": "display_data"
    },
    {
     "name": "stdout",
     "output_type": "stream",
     "text": [
      "Epoch 00195\n",
      "\tlr: 1.000e-02\n",
      "\tcv loss: 2.228e-02\n",
      "\ttr loss: 9.983e-03 | (1.28 s | 0.02 m)\n"
     ]
    },
    {
     "data": {
      "application/vnd.jupyter.widget-view+json": {
       "model_id": "",
       "version_major": 2,
       "version_minor": 0
      },
      "text/plain": [
       "Validation: 0it [00:00, ?it/s]"
      ]
     },
     "metadata": {},
     "output_type": "display_data"
    },
    {
     "name": "stdout",
     "output_type": "stream",
     "text": [
      "Epoch 00196\n",
      "\tlr: 1.000e-02\n",
      "\tcv loss: 2.094e-02\n",
      "\ttr loss: 9.895e-03 | (1.36 s | 0.02 m)\n"
     ]
    },
    {
     "data": {
      "application/vnd.jupyter.widget-view+json": {
       "model_id": "",
       "version_major": 2,
       "version_minor": 0
      },
      "text/plain": [
       "Validation: 0it [00:00, ?it/s]"
      ]
     },
     "metadata": {},
     "output_type": "display_data"
    },
    {
     "name": "stdout",
     "output_type": "stream",
     "text": [
      "Epoch 00197\n",
      "\tlr: 1.000e-02\n",
      "\tcv loss: 2.290e-02\n",
      "\ttr loss: 9.611e-03 | (1.55 s | 0.03 m)\n"
     ]
    },
    {
     "data": {
      "application/vnd.jupyter.widget-view+json": {
       "model_id": "",
       "version_major": 2,
       "version_minor": 0
      },
      "text/plain": [
       "Validation: 0it [00:00, ?it/s]"
      ]
     },
     "metadata": {},
     "output_type": "display_data"
    },
    {
     "name": "stdout",
     "output_type": "stream",
     "text": [
      "Epoch 00198\n",
      "\tlr: 1.000e-02\n",
      "\tcv loss: 2.372e-02\n",
      "\ttr loss: 9.627e-03 | (1.25 s | 0.02 m)\n"
     ]
    },
    {
     "data": {
      "application/vnd.jupyter.widget-view+json": {
       "model_id": "",
       "version_major": 2,
       "version_minor": 0
      },
      "text/plain": [
       "Validation: 0it [00:00, ?it/s]"
      ]
     },
     "metadata": {},
     "output_type": "display_data"
    },
    {
     "name": "stdout",
     "output_type": "stream",
     "text": [
      "Epoch 00199\n",
      "\tlr: 1.000e-02\n",
      "\tcv loss: 2.153e-02\n",
      "\ttr loss: 1.003e-02 | (1.24 s | 0.02 m)\n"
     ]
    },
    {
     "data": {
      "application/vnd.jupyter.widget-view+json": {
       "model_id": "",
       "version_major": 2,
       "version_minor": 0
      },
      "text/plain": [
       "Validation: 0it [00:00, ?it/s]"
      ]
     },
     "metadata": {},
     "output_type": "display_data"
    },
    {
     "name": "stdout",
     "output_type": "stream",
     "text": [
      "Epoch 00200\n",
      "\tlr: 1.000e-02\n",
      "\tcv loss: 2.230e-02\n",
      "\ttr loss: 9.817e-03 | (1.24 s | 0.02 m)\n"
     ]
    }
   ],
   "source": [
    "trainer.fit(model, loader)"
   ]
  },
  {
   "cell_type": "code",
   "execution_count": 13,
   "id": "bed94236-afc5-4181-a06f-22249a083057",
   "metadata": {},
   "outputs": [],
   "source": [
    "trainer.export_csv_log()"
   ]
  },
  {
   "cell_type": "markdown",
   "id": "9b08d904-5406-4c05-9cd1-d369e7083418",
   "metadata": {},
   "source": [
    "## Plotting Loss over Epochs"
   ]
  },
  {
   "cell_type": "code",
   "execution_count": 14,
   "id": "bb65b4bc-a02b-4230-a41b-10edf4d413a1",
   "metadata": {},
   "outputs": [
    {
     "data": {
      "image/png": "[encoded data removed]",
      "text/plain": [
       "<Figure size 432x288 with 1 Axes>"
      ]
     },
     "metadata": {
      "needs_background": "light"
     },
     "output_type": "display_data"
    }
   ],
   "source": [
    "import matplotlib.pyplot as plt\n",
    "import pandas as pd\n",
    "\n",
    "\n",
    "\n",
    "\n",
    "# Load data\n",
    "results = pd.read_csv('debug/test_logs/001/version_1/custom_metrics.csv')\n",
    "\n",
    "# Plot\n",
    "plt.plot(results['epoch'], results['train_loss'],color='green')\n",
    "plt.xlabel('Epoch')\n",
    "plt.ylabel('Training Loss')\n",
    "plt.show()"
   ]
  },
  {
   "cell_type": "code",
   "execution_count": 15,
   "id": "f385d10e-50d9-48f4-91a2-836f32b9a1f1",
   "metadata": {},
   "outputs": [
    {
     "data": {
      "image/png": "[encoded data removed]",
      "text/plain": [
       "<Figure size 432x288 with 1 Axes>"
      ]
     },
     "metadata": {
      "needs_background": "light"
     },
     "output_type": "display_data"
    }
   ],
   "source": [
    "plt.plot(results['epoch'], results['val_loss'])\n",
    "plt.xlabel('Epoch')\n",
    "plt.ylabel('Validation Loss')\n",
    "plt.show()"
   ]
  },
  {
   "cell_type": "code",
   "execution_count": 16,
   "id": "7782bc6c-1ff8-49e0-83aa-3b03281863ae",
   "metadata": {},
   "outputs": [
    {
     "name": "stdout",
     "output_type": "stream",
     "text": [
      "Model(\n",
      "  (_criterion): MSELoss()\n",
      "  (_net): Net(\n",
      "    (_net): Sequential(\n",
      "      (0): Linear(in_features=155, out_features=39, bias=True)\n",
      "      (1): _NetBlock(\n",
      "        (_block): Sequential(\n",
      "          (0): Linear(in_features=39, out_features=51, bias=True)\n",
      "          (1): BatchNorm1d(51, eps=1e-05, momentum=0.1, affine=True, track_running_stats=True)\n",
      "          (2): ReLU()\n",
      "        )\n",
      "      )\n",
      "      (2): _NetBlock(\n",
      "        (_block): Sequential(\n",
      "          (0): Linear(in_features=51, out_features=57, bias=True)\n",
      "          (1): BatchNorm1d(57, eps=1e-05, momentum=0.1, affine=True, track_running_stats=True)\n",
      "          (2): ReLU()\n",
      "        )\n",
      "      )\n",
      "      (3): _NetBlock(\n",
      "        (_block): Sequential(\n",
      "          (0): Linear(in_features=57, out_features=37, bias=True)\n",
      "          (1): BatchNorm1d(37, eps=1e-05, momentum=0.1, affine=True, track_running_stats=True)\n",
      "          (2): ReLU()\n",
      "        )\n",
      "      )\n",
      "      (4): _NetBlock(\n",
      "        (_block): Sequential(\n",
      "          (0): Linear(in_features=37, out_features=61, bias=True)\n",
      "          (1): BatchNorm1d(61, eps=1e-05, momentum=0.1, affine=True, track_running_stats=True)\n",
      "          (2): ReLU()\n",
      "        )\n",
      "      )\n",
      "      (5): _NetBlock(\n",
      "        (_block): Sequential(\n",
      "          (0): Linear(in_features=61, out_features=95, bias=True)\n",
      "          (1): BatchNorm1d(95, eps=1e-05, momentum=0.1, affine=True, track_running_stats=True)\n",
      "          (2): ReLU()\n",
      "        )\n",
      "      )\n",
      "      (6): _NetBlock(\n",
      "        (_block): Sequential(\n",
      "          (0): Linear(in_features=95, out_features=68, bias=True)\n",
      "          (1): BatchNorm1d(68, eps=1e-05, momentum=0.1, affine=True, track_running_stats=True)\n",
      "          (2): ReLU()\n",
      "        )\n",
      "      )\n",
      "      (7): _NetBlock(\n",
      "        (_block): Sequential(\n",
      "          (0): Linear(in_features=68, out_features=84, bias=True)\n",
      "          (1): BatchNorm1d(84, eps=1e-05, momentum=0.1, affine=True, track_running_stats=True)\n",
      "          (2): ReLU()\n",
      "        )\n",
      "      )\n",
      "      (8): _NetBlock(\n",
      "        (_block): Sequential(\n",
      "          (0): Linear(in_features=84, out_features=82, bias=True)\n",
      "          (1): BatchNorm1d(82, eps=1e-05, momentum=0.1, affine=True, track_running_stats=True)\n",
      "          (2): ReLU()\n",
      "        )\n",
      "      )\n",
      "      (9): _NetBlock(\n",
      "        (_block): Sequential(\n",
      "          (0): Linear(in_features=82, out_features=85, bias=True)\n",
      "          (1): BatchNorm1d(85, eps=1e-05, momentum=0.1, affine=True, track_running_stats=True)\n",
      "          (2): ReLU()\n",
      "        )\n",
      "      )\n",
      "      (10): Linear(in_features=85, out_features=200, bias=True)\n",
      "      (11): Softplus(beta=1, threshold=20)\n",
      "    )\n",
      "  )\n",
      ")\n"
     ]
    }
   ],
   "source": [
    "#model architecture\n",
    "print(model)"
   ]
  },
  {
   "cell_type": "markdown",
   "id": "f67ae4ed-2626-4a88-af2b-23e1964fd70c",
   "metadata": {},
   "source": [
    "## Predictions"
   ]
  },
  {
   "cell_type": "code",
   "execution_count": 17,
   "id": "b008bccc-6d71-428a-87a3-4d6d1fad3f5e",
   "metadata": {},
   "outputs": [],
   "source": [
    "model.eval()\n",
    "predictions = model(torch.FloatTensor(x_val))\n",
    "preds = predictions.detach().numpy()"
   ]
  },
  {
   "cell_type": "code",
   "execution_count": 18,
   "id": "11628d8a-d928-492f-86c0-7f613d07b588",
   "metadata": {},
   "outputs": [],
   "source": [
    "# print(predictions)\n",
    "#print(\"Predicted: \", predictions[0],\"\\nTrue: \", y_val[0])"
   ]
  },
  {
   "cell_type": "code",
   "execution_count": 19,
   "id": "1a388c81-0d3e-473a-ab4b-4cabade5819e",
   "metadata": {},
   "outputs": [
    {
     "name": "stdout",
     "output_type": "stream",
     "text": [
      "min_loss =  0.0201457515358924\n"
     ]
    }
   ],
   "source": [
    "#printing minimum loss value\n",
    "print(\"min_loss = \", min(results['val_loss']))"
   ]
  },
  {
   "cell_type": "markdown",
   "id": "71ee8c3a-5d94-446d-a56b-4a7c61dd80cf",
   "metadata": {},
   "source": [
    "## PCA Plot and Error Plots"
   ]
  },
  {
   "cell_type": "code",
   "execution_count": 20,
   "id": "9f25671c-f67e-4711-8e79-ffadbe99370c",
   "metadata": {},
   "outputs": [],
   "source": [
    "from matplotlib import cm\n",
    "\n",
    "grid = data['grid']\n",
    "acsf_array = data['x']\n",
    "spectra = data['y']"
   ]
  },
  {
   "cell_type": "code",
   "execution_count": 21,
   "id": "5483a4ca-01a6-4053-aa59-9365579ae912",
   "metadata": {},
   "outputs": [],
   "source": [
    "from sklearn.decomposition import PCA\n",
    "from sklearn.cluster import KMeans\n",
    "from sklearn.preprocessing import StandardScaler\n",
    "\n",
    "pca_acsf = PCA(2)\n",
    "w_acsf = pca_acsf.fit_transform(acsf_array)\n",
    "\n",
    "pca_spectra = PCA(2)\n",
    "w_spectra = pca_spectra.fit_transform(spectra)\n",
    "\n",
    "# print(w_spectra.shape)\n",
    "# print(w_acsf.shape)\n",
    "\n",
    "N = 10\n",
    "M = 100\n",
    "\n",
    "dig = np.digitize(w_acsf[::N, 0], bins=np.linspace(w_acsf[::N, 0].min(), w_acsf[::N, 0].max(), M))\n",
    "cmap = cm.get_cmap(\"rainbow\", M)"
   ]
  },
  {
   "cell_type": "code",
   "execution_count": 22,
   "id": "288a2978-c3e6-41a5-abc5-7ef15ad2bc87",
   "metadata": {},
   "outputs": [
    {
     "data": {
      "image/png": "[encoded data removed]",
      "text/plain": [
       "<Figure size 288x288 with 1 Axes>"
      ]
     },
     "metadata": {
      "needs_background": "light"
     },
     "output_type": "display_data"
    }
   ],
   "source": [
    "fig, ax = plt.subplots(1, 1, figsize=(4, 4))\n",
    "\n",
    "ax.scatter(w_acsf[:, 0], w_acsf[:, 1],  c=w_spectra[:, 0], cmap=plt.cm.get_cmap('Spectral'))\n",
    "\n",
    "ax.set_xlabel('component 1')\n",
    "ax.set_ylabel('component 2')\n",
    "plt.show()"
   ]
  },
  {
   "cell_type": "code",
   "execution_count": 23,
   "id": "6bb6f2c7-f128-45b4-8efd-b956a4a66aa7",
   "metadata": {},
   "outputs": [
    {
     "data": {
      "image/png": "[encoded data removed]",
      "text/plain": [
       "<Figure size 432x288 with 1 Axes>"
      ]
     },
     "metadata": {
      "needs_background": "light"
     },
     "output_type": "display_data"
    },
    {
     "data": {
      "image/png": "[encoded data removed]",
      "text/plain": [
       "<Figure size 432x288 with 1 Axes>"
      ]
     },
     "metadata": {
      "needs_background": "light"
     },
     "output_type": "display_data"
    },
    {
     "data": {
      "image/png": "[encoded data removed]",
      "text/plain": [
       "<Figure size 432x288 with 1 Axes>"
      ]
     },
     "metadata": {
      "needs_background": "light"
     },
     "output_type": "display_data"
    },
    {
     "data": {
      "image/png": "[encoded data removed]",
      "text/plain": [
       "<Figure size 432x288 with 1 Axes>"
      ]
     },
     "metadata": {
      "needs_background": "light"
     },
     "output_type": "display_data"
    },
    {
     "data": {
      "image/png": "[encoded data removed]",
      "text/plain": [
       "<Figure size 432x288 with 1 Axes>"
      ]
     },
     "metadata": {
      "needs_background": "light"
     },
     "output_type": "display_data"
    },
    {
     "data": {
      "image/png": "[encoded data removed]",
      "text/plain": [
       "<Figure size 432x288 with 1 Axes>"
      ]
     },
     "metadata": {
      "needs_background": "light"
     },
     "output_type": "display_data"
    },
    {
     "data": {
      "image/png": "[encoded data removed]",
      "text/plain": [
       "<Figure size 432x288 with 1 Axes>"
      ]
     },
     "metadata": {
      "needs_background": "light"
     },
     "output_type": "display_data"
    },
    {
     "data": {
      "image/png": "[encoded data removed]",
      "text/plain": [
       "<Figure size 432x288 with 1 Axes>"
      ]
     },
     "metadata": {
      "needs_background": "light"
     },
     "output_type": "display_data"
    },
    {
     "data": {
      "image/png": "[encoded data removed]",
      "text/plain": [
       "<Figure size 432x288 with 1 Axes>"
      ]
     },
     "metadata": {
      "needs_background": "light"
     },
     "output_type": "display_data"
    },
    {
     "data": {
      "image/png": "[encoded data removed]",
      "text/plain": [
       "<Figure size 432x288 with 1 Axes>"
      ]
     },
     "metadata": {
      "needs_background": "light"
     },
     "output_type": "display_data"
    }
   ],
   "source": [
    "from sklearn.metrics import mean_squared_error\n",
    "import math\n",
    "\n",
    "mse = mean_squared_error(preds, y_val, multioutput = 'raw_values')\n",
    "\n",
    "rmse = [math.sqrt(mse[i]) for i in range(len(mse))]\n",
    "for i in range(10):\n",
    "    fig1, ax1 = plt.subplots(1, 1, figsize=(6, 4))\n",
    "    \n",
    "    \n",
    "    ax1.plot(grid, preds[i], color=cmap(dig[i]), linestyle = 'dashed', label = \"Predicted\")\n",
    "\n",
    "    ax1.plot(grid, y_val[i], color=cmap(dig[i]), label = \"True\")\n",
    "    ax1.legend(loc=\"upper right\")\n",
    "    ax1.set_title(\"Predicted vs True Spectra\")\n",
    "    plt.fill_between(grid, preds[i] -1 * rmse,preds[i] +1 * rmse, color=cmap(dig[i]), alpha = 0.2)\n",
    "    \n",
    "    # errorbar(grid, y_val[i], yerr= mse, color = cmap(dig[i]), alpha = 0.5)\n",
    "    plt.show()"
   ]
  }
 ],
 "metadata": {
  "kernelspec": {
   "display_name": "Venv",
   "language": "python",
   "name": "venv"
  },
  "language_info": {
   "codemirror_mode": {
    "name": "ipython",
    "version": 3
   },
   "file_extension": ".py",
   "mimetype": "text/x-python",
   "name": "python",
   "nbconvert_exporter": "python",
   "pygments_lexer": "ipython3",
   "version": "3.9.12"
  }
 },
 "nbformat": 4,
 "nbformat_minor": 5
}
